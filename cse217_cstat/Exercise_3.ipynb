{
  "nbformat": 4,
  "nbformat_minor": 0,
  "metadata": {
    "colab": {
      "provenance": []
    },
    "kernelspec": {
      "name": "python3",
      "display_name": "Python 3"
    },
    "language_info": {
      "name": "python"
    }
  },
  "cells": [
    {
      "cell_type": "markdown",
      "source": [
        "### Reading csv from various places"
      ],
      "metadata": {
        "id": "2Ej7XW2UMffb"
      }
    },
    {
      "cell_type": "code",
      "source": [
        "import pandas as pd"
      ],
      "metadata": {
        "id": "w45tVlZiMlSE"
      },
      "execution_count": null,
      "outputs": []
    },
    {
      "cell_type": "code",
      "source": [
        "# From a network resource\n",
        "ncsv = pd.read_csv('https://gist.githubusercontent.com/seankross/a412dfbd88b3db70b74b/raw/5f23f993cd87c283ce766e7ac6b329ee7cc2e1d1/mtcars.csv')\n",
        "print(ncsv.head())"
      ],
      "metadata": {
        "colab": {
          "base_uri": "https://localhost:8080/"
        },
        "id": "4Z4_4yKLMoAT",
        "outputId": "f8d443d2-be42-4123-bac3-721b5294bc57"
      },
      "execution_count": null,
      "outputs": [
        {
          "output_type": "stream",
          "name": "stdout",
          "text": [
            "               model   mpg  cyl   disp   hp  drat     wt   qsec  vs  am  gear  \\\n",
            "0          Mazda RX4  21.0    6  160.0  110  3.90  2.620  16.46   0   1     4   \n",
            "1      Mazda RX4 Wag  21.0    6  160.0  110  3.90  2.875  17.02   0   1     4   \n",
            "2         Datsun 710  22.8    4  108.0   93  3.85  2.320  18.61   1   1     4   \n",
            "3     Hornet 4 Drive  21.4    6  258.0  110  3.08  3.215  19.44   1   0     3   \n",
            "4  Hornet Sportabout  18.7    8  360.0  175  3.15  3.440  17.02   0   0     3   \n",
            "\n",
            "   carb  \n",
            "0     4  \n",
            "1     4  \n",
            "2     1  \n",
            "3     1  \n",
            "4     2  \n"
          ]
        }
      ]
    },
    {
      "cell_type": "code",
      "source": [
        "# Direct upload to colab\n",
        "from google.colab import files\n",
        "from io import BytesIO\n",
        "\n",
        "uploads = files.upload()\n",
        "# File is uploaded as well as stored as bytes in a dict\n",
        "# key is the uploaded file name\n",
        "pseudofile = BytesIO(uploads['mtcars.csv'])\n",
        "ccsv = pd.read_csv(pseudofile)"
      ],
      "metadata": {
        "colab": {
          "base_uri": "https://localhost:8080/",
          "height": 72
        },
        "id": "G_KbbqoxM942",
        "outputId": "d0c3f6f3-2681-488a-b355-092819ff027f"
      },
      "execution_count": null,
      "outputs": [
        {
          "output_type": "display_data",
          "data": {
            "text/plain": [
              "<IPython.core.display.HTML object>"
            ],
            "text/html": [
              "\n",
              "     <input type=\"file\" id=\"files-a1994b50-b36a-4a24-90f2-d51ce8a93f40\" name=\"files[]\" multiple disabled\n",
              "        style=\"border:none\" />\n",
              "     <output id=\"result-a1994b50-b36a-4a24-90f2-d51ce8a93f40\">\n",
              "      Upload widget is only available when the cell has been executed in the\n",
              "      current browser session. Please rerun this cell to enable.\n",
              "      </output>\n",
              "      <script>// Copyright 2017 Google LLC\n",
              "//\n",
              "// Licensed under the Apache License, Version 2.0 (the \"License\");\n",
              "// you may not use this file except in compliance with the License.\n",
              "// You may obtain a copy of the License at\n",
              "//\n",
              "//      http://www.apache.org/licenses/LICENSE-2.0\n",
              "//\n",
              "// Unless required by applicable law or agreed to in writing, software\n",
              "// distributed under the License is distributed on an \"AS IS\" BASIS,\n",
              "// WITHOUT WARRANTIES OR CONDITIONS OF ANY KIND, either express or implied.\n",
              "// See the License for the specific language governing permissions and\n",
              "// limitations under the License.\n",
              "\n",
              "/**\n",
              " * @fileoverview Helpers for google.colab Python module.\n",
              " */\n",
              "(function(scope) {\n",
              "function span(text, styleAttributes = {}) {\n",
              "  const element = document.createElement('span');\n",
              "  element.textContent = text;\n",
              "  for (const key of Object.keys(styleAttributes)) {\n",
              "    element.style[key] = styleAttributes[key];\n",
              "  }\n",
              "  return element;\n",
              "}\n",
              "\n",
              "// Max number of bytes which will be uploaded at a time.\n",
              "const MAX_PAYLOAD_SIZE = 100 * 1024;\n",
              "\n",
              "function _uploadFiles(inputId, outputId) {\n",
              "  const steps = uploadFilesStep(inputId, outputId);\n",
              "  const outputElement = document.getElementById(outputId);\n",
              "  // Cache steps on the outputElement to make it available for the next call\n",
              "  // to uploadFilesContinue from Python.\n",
              "  outputElement.steps = steps;\n",
              "\n",
              "  return _uploadFilesContinue(outputId);\n",
              "}\n",
              "\n",
              "// This is roughly an async generator (not supported in the browser yet),\n",
              "// where there are multiple asynchronous steps and the Python side is going\n",
              "// to poll for completion of each step.\n",
              "// This uses a Promise to block the python side on completion of each step,\n",
              "// then passes the result of the previous step as the input to the next step.\n",
              "function _uploadFilesContinue(outputId) {\n",
              "  const outputElement = document.getElementById(outputId);\n",
              "  const steps = outputElement.steps;\n",
              "\n",
              "  const next = steps.next(outputElement.lastPromiseValue);\n",
              "  return Promise.resolve(next.value.promise).then((value) => {\n",
              "    // Cache the last promise value to make it available to the next\n",
              "    // step of the generator.\n",
              "    outputElement.lastPromiseValue = value;\n",
              "    return next.value.response;\n",
              "  });\n",
              "}\n",
              "\n",
              "/**\n",
              " * Generator function which is called between each async step of the upload\n",
              " * process.\n",
              " * @param {string} inputId Element ID of the input file picker element.\n",
              " * @param {string} outputId Element ID of the output display.\n",
              " * @return {!Iterable<!Object>} Iterable of next steps.\n",
              " */\n",
              "function* uploadFilesStep(inputId, outputId) {\n",
              "  const inputElement = document.getElementById(inputId);\n",
              "  inputElement.disabled = false;\n",
              "\n",
              "  const outputElement = document.getElementById(outputId);\n",
              "  outputElement.innerHTML = '';\n",
              "\n",
              "  const pickedPromise = new Promise((resolve) => {\n",
              "    inputElement.addEventListener('change', (e) => {\n",
              "      resolve(e.target.files);\n",
              "    });\n",
              "  });\n",
              "\n",
              "  const cancel = document.createElement('button');\n",
              "  inputElement.parentElement.appendChild(cancel);\n",
              "  cancel.textContent = 'Cancel upload';\n",
              "  const cancelPromise = new Promise((resolve) => {\n",
              "    cancel.onclick = () => {\n",
              "      resolve(null);\n",
              "    };\n",
              "  });\n",
              "\n",
              "  // Wait for the user to pick the files.\n",
              "  const files = yield {\n",
              "    promise: Promise.race([pickedPromise, cancelPromise]),\n",
              "    response: {\n",
              "      action: 'starting',\n",
              "    }\n",
              "  };\n",
              "\n",
              "  cancel.remove();\n",
              "\n",
              "  // Disable the input element since further picks are not allowed.\n",
              "  inputElement.disabled = true;\n",
              "\n",
              "  if (!files) {\n",
              "    return {\n",
              "      response: {\n",
              "        action: 'complete',\n",
              "      }\n",
              "    };\n",
              "  }\n",
              "\n",
              "  for (const file of files) {\n",
              "    const li = document.createElement('li');\n",
              "    li.append(span(file.name, {fontWeight: 'bold'}));\n",
              "    li.append(span(\n",
              "        `(${file.type || 'n/a'}) - ${file.size} bytes, ` +\n",
              "        `last modified: ${\n",
              "            file.lastModifiedDate ? file.lastModifiedDate.toLocaleDateString() :\n",
              "                                    'n/a'} - `));\n",
              "    const percent = span('0% done');\n",
              "    li.appendChild(percent);\n",
              "\n",
              "    outputElement.appendChild(li);\n",
              "\n",
              "    const fileDataPromise = new Promise((resolve) => {\n",
              "      const reader = new FileReader();\n",
              "      reader.onload = (e) => {\n",
              "        resolve(e.target.result);\n",
              "      };\n",
              "      reader.readAsArrayBuffer(file);\n",
              "    });\n",
              "    // Wait for the data to be ready.\n",
              "    let fileData = yield {\n",
              "      promise: fileDataPromise,\n",
              "      response: {\n",
              "        action: 'continue',\n",
              "      }\n",
              "    };\n",
              "\n",
              "    // Use a chunked sending to avoid message size limits. See b/62115660.\n",
              "    let position = 0;\n",
              "    do {\n",
              "      const length = Math.min(fileData.byteLength - position, MAX_PAYLOAD_SIZE);\n",
              "      const chunk = new Uint8Array(fileData, position, length);\n",
              "      position += length;\n",
              "\n",
              "      const base64 = btoa(String.fromCharCode.apply(null, chunk));\n",
              "      yield {\n",
              "        response: {\n",
              "          action: 'append',\n",
              "          file: file.name,\n",
              "          data: base64,\n",
              "        },\n",
              "      };\n",
              "\n",
              "      let percentDone = fileData.byteLength === 0 ?\n",
              "          100 :\n",
              "          Math.round((position / fileData.byteLength) * 100);\n",
              "      percent.textContent = `${percentDone}% done`;\n",
              "\n",
              "    } while (position < fileData.byteLength);\n",
              "  }\n",
              "\n",
              "  // All done.\n",
              "  yield {\n",
              "    response: {\n",
              "      action: 'complete',\n",
              "    }\n",
              "  };\n",
              "}\n",
              "\n",
              "scope.google = scope.google || {};\n",
              "scope.google.colab = scope.google.colab || {};\n",
              "scope.google.colab._files = {\n",
              "  _uploadFiles,\n",
              "  _uploadFilesContinue,\n",
              "};\n",
              "})(self);\n",
              "</script> "
            ]
          },
          "metadata": {}
        },
        {
          "output_type": "stream",
          "name": "stdout",
          "text": [
            "Saving mtcars.csv to mtcars.csv\n"
          ]
        }
      ]
    },
    {
      "cell_type": "markdown",
      "source": [
        "Or directly upload through the sidebar in colab"
      ],
      "metadata": {
        "id": "l9XuKzDUOdIz"
      }
    },
    {
      "cell_type": "markdown",
      "source": [
        "### Pandas basics"
      ],
      "metadata": {
        "id": "hTXlWJ3DOkzC"
      }
    },
    {
      "cell_type": "code",
      "source": [
        "print(\"Head of data:\")\n",
        "print(ccsv.head())\n",
        "print(\"\\nShape of data:\")\n",
        "print(ccsv.shape)\n",
        "print(\"\\nDescription of data:\")\n",
        "print(ccsv.describe())"
      ],
      "metadata": {
        "colab": {
          "base_uri": "https://localhost:8080/"
        },
        "id": "uFX96egIOjB7",
        "outputId": "ac70df2f-6f39-4620-f697-864a44c7a562"
      },
      "execution_count": null,
      "outputs": [
        {
          "output_type": "stream",
          "name": "stdout",
          "text": [
            "Head of data:\n",
            "               model   mpg  cyl   disp   hp  drat     wt   qsec  vs  am  gear  \\\n",
            "0          Mazda RX4  21.0    6  160.0  110  3.90  2.620  16.46   0   1     4   \n",
            "1      Mazda RX4 Wag  21.0    6  160.0  110  3.90  2.875  17.02   0   1     4   \n",
            "2         Datsun 710  22.8    4  108.0   93  3.85  2.320  18.61   1   1     4   \n",
            "3     Hornet 4 Drive  21.4    6  258.0  110  3.08  3.215  19.44   1   0     3   \n",
            "4  Hornet Sportabout  18.7    8  360.0  175  3.15  3.440  17.02   0   0     3   \n",
            "\n",
            "   carb  \n",
            "0     4  \n",
            "1     4  \n",
            "2     1  \n",
            "3     1  \n",
            "4     2  \n",
            "\n",
            "Shape of data:\n",
            "(32, 12)\n",
            "\n",
            "Description of data:\n",
            "             mpg        cyl        disp          hp       drat         wt  \\\n",
            "count  32.000000  32.000000   32.000000   32.000000  32.000000  32.000000   \n",
            "mean   20.090625   6.187500  230.721875  146.687500   3.596563   3.217250   \n",
            "std     6.026948   1.785922  123.938694   68.562868   0.534679   0.978457   \n",
            "min    10.400000   4.000000   71.100000   52.000000   2.760000   1.513000   \n",
            "25%    15.425000   4.000000  120.825000   96.500000   3.080000   2.581250   \n",
            "50%    19.200000   6.000000  196.300000  123.000000   3.695000   3.325000   \n",
            "75%    22.800000   8.000000  326.000000  180.000000   3.920000   3.610000   \n",
            "max    33.900000   8.000000  472.000000  335.000000   4.930000   5.424000   \n",
            "\n",
            "            qsec         vs         am       gear     carb  \n",
            "count  32.000000  32.000000  32.000000  32.000000  32.0000  \n",
            "mean   17.848750   0.437500   0.406250   3.687500   2.8125  \n",
            "std     1.786943   0.504016   0.498991   0.737804   1.6152  \n",
            "min    14.500000   0.000000   0.000000   3.000000   1.0000  \n",
            "25%    16.892500   0.000000   0.000000   3.000000   2.0000  \n",
            "50%    17.710000   0.000000   0.000000   4.000000   2.0000  \n",
            "75%    18.900000   1.000000   1.000000   4.000000   4.0000  \n",
            "max    22.900000   1.000000   1.000000   5.000000   8.0000  \n"
          ]
        }
      ]
    },
    {
      "cell_type": "markdown",
      "source": [
        "### Exercise 3\n",
        "Chi-sqd test and t-test"
      ],
      "metadata": {
        "id": "nmw7z-ihPlYL"
      }
    },
    {
      "cell_type": "code",
      "source": [
        "import pandas as pd"
      ],
      "metadata": {
        "id": "u1BfMU9CP0qy"
      },
      "execution_count": null,
      "outputs": []
    },
    {
      "cell_type": "code",
      "source": [
        "# Load data\n",
        "data_frame = pd.read_csv('https://gist.githubusercontent.com/seankross/a412dfbd88b3db70b74b/raw/5f23f993cd87c283ce766e7ac6b329ee7cc2e1d1/mtcars.csv')\n",
        "print(\"Head of data:\")\n",
        "print(data_frame.head())\n",
        "print(\"\\nShape of data:\")\n",
        "print(data_frame.shape)\n",
        "print(\"\\nDescription of data:\")\n",
        "print(data_frame.describe())"
      ],
      "metadata": {
        "colab": {
          "base_uri": "https://localhost:8080/"
        },
        "id": "_YTy3yS7PEpr",
        "outputId": "953b9a32-26df-43b0-816f-21e6a4b5996b"
      },
      "execution_count": null,
      "outputs": [
        {
          "output_type": "stream",
          "name": "stdout",
          "text": [
            "Head of data:\n",
            "               model   mpg  cyl   disp   hp  drat     wt   qsec  vs  am  gear  \\\n",
            "0          Mazda RX4  21.0    6  160.0  110  3.90  2.620  16.46   0   1     4   \n",
            "1      Mazda RX4 Wag  21.0    6  160.0  110  3.90  2.875  17.02   0   1     4   \n",
            "2         Datsun 710  22.8    4  108.0   93  3.85  2.320  18.61   1   1     4   \n",
            "3     Hornet 4 Drive  21.4    6  258.0  110  3.08  3.215  19.44   1   0     3   \n",
            "4  Hornet Sportabout  18.7    8  360.0  175  3.15  3.440  17.02   0   0     3   \n",
            "\n",
            "   carb  \n",
            "0     4  \n",
            "1     4  \n",
            "2     1  \n",
            "3     1  \n",
            "4     2  \n",
            "\n",
            "Shape of data:\n",
            "(32, 12)\n",
            "\n",
            "Description of data:\n",
            "             mpg        cyl        disp          hp       drat         wt  \\\n",
            "count  32.000000  32.000000   32.000000   32.000000  32.000000  32.000000   \n",
            "mean   20.090625   6.187500  230.721875  146.687500   3.596563   3.217250   \n",
            "std     6.026948   1.785922  123.938694   68.562868   0.534679   0.978457   \n",
            "min    10.400000   4.000000   71.100000   52.000000   2.760000   1.513000   \n",
            "25%    15.425000   4.000000  120.825000   96.500000   3.080000   2.581250   \n",
            "50%    19.200000   6.000000  196.300000  123.000000   3.695000   3.325000   \n",
            "75%    22.800000   8.000000  326.000000  180.000000   3.920000   3.610000   \n",
            "max    33.900000   8.000000  472.000000  335.000000   4.930000   5.424000   \n",
            "\n",
            "            qsec         vs         am       gear     carb  \n",
            "count  32.000000  32.000000  32.000000  32.000000  32.0000  \n",
            "mean   17.848750   0.437500   0.406250   3.687500   2.8125  \n",
            "std     1.786943   0.504016   0.498991   0.737804   1.6152  \n",
            "min    14.500000   0.000000   0.000000   3.000000   1.0000  \n",
            "25%    16.892500   0.000000   0.000000   3.000000   2.0000  \n",
            "50%    17.710000   0.000000   0.000000   4.000000   2.0000  \n",
            "75%    18.900000   1.000000   1.000000   4.000000   4.0000  \n",
            "max    22.900000   1.000000   1.000000   5.000000   8.0000  \n"
          ]
        }
      ]
    },
    {
      "cell_type": "code",
      "source": [
        "from scipy.stats import chi2_contingency\n",
        "# Chi-square test\n",
        "target = data_frame.mpg\n",
        "features = data_frame.columns[2:]\n",
        "alpha = 0.05\n",
        "\n",
        "for feature in features:\n",
        "  stat, p, dof, expected = chi2_contingency(\n",
        "      [target, data_frame[feature]]\n",
        "  )\n",
        "  print(f\"p value for {feature} is {p}\")\n",
        "  if p <= alpha:\n",
        "    print('Dependent features (reject H0)')\n",
        "  else:\n",
        "    print('Independent features (accept H0)')"
      ],
      "metadata": {
        "colab": {
          "base_uri": "https://localhost:8080/"
        },
        "id": "bLrvy1vkQF8j",
        "outputId": "3ec13958-40e6-4a5c-e7d7-88a9fdc01ab4"
      },
      "execution_count": null,
      "outputs": [
        {
          "output_type": "stream",
          "name": "stdout",
          "text": [
            "p value for cyl is 0.03907998201790578\n",
            "Dependent features (reject H0)\n",
            "p value for disp is 2.5135660680278938e-86\n",
            "Dependent features (reject H0)\n",
            "p value for hp is 3.375793921389507e-51\n",
            "Dependent features (reject H0)\n",
            "p value for drat is 0.9999999808305179\n",
            "Independent features (accept H0)\n",
            "p value for wt is 0.5219273189153912\n",
            "Independent features (accept H0)\n",
            "p value for qsec is 0.9117996933708745\n",
            "Independent features (accept H0)\n",
            "p value for vs is 0.9981162454068212\n",
            "Independent features (accept H0)\n",
            "p value for am is 0.9943234656962614\n",
            "Independent features (accept H0)\n",
            "p value for gear is 0.9999985024980557\n",
            "Independent features (accept H0)\n",
            "p value for carb is 0.04371930844420983\n",
            "Dependent features (reject H0)\n"
          ]
        }
      ]
    },
    {
      "cell_type": "code",
      "source": [
        "from scipy.stats import ttest_ind\n",
        "\n",
        "# Two-sample t-test\n",
        "target = data_frame.mpg\n",
        "features = data_frame.columns[2:]\n",
        "alpha = 0.05\n",
        "\n",
        "for feature in features:\n",
        "  # Result is kinda like a NamedTuple\n",
        "  stat, p = ttest_ind(target, data_frame[feature])\n",
        "  print(f'mpg, {feature}: ', end='')\n",
        "  if p <= alpha:\n",
        "    print('Reject H0: Population means differ.')\n",
        "  else:\n",
        "    print('Accept H0: Population means are same.')"
      ],
      "metadata": {
        "colab": {
          "base_uri": "https://localhost:8080/"
        },
        "id": "KFg0iHvqWJXU",
        "outputId": "e977635f-a546-419a-e86b-3fff7e48ef3a"
      },
      "execution_count": null,
      "outputs": [
        {
          "output_type": "stream",
          "name": "stdout",
          "text": [
            "mpg, cyl: Reject H0: Population means differ.\n",
            "mpg, disp: Reject H0: Population means differ.\n",
            "mpg, hp: Reject H0: Population means differ.\n",
            "mpg, drat: Reject H0: Population means differ.\n",
            "mpg, wt: Reject H0: Population means differ.\n",
            "mpg, qsec: Reject H0: Population means differ.\n",
            "mpg, vs: Reject H0: Population means differ.\n",
            "mpg, am: Reject H0: Population means differ.\n",
            "mpg, gear: Reject H0: Population means differ.\n",
            "mpg, carb: Reject H0: Population means differ.\n"
          ]
        }
      ]
    },
    {
      "cell_type": "markdown",
      "source": [
        "Of course the population means differ as we are comparing two different feature sets and not same feature set from two populations."
      ],
      "metadata": {
        "id": "-bQbTPBHaeyj"
      }
    },
    {
      "cell_type": "code",
      "source": [
        "alpha = 0.05\n",
        "target = data_frame.mpg\n",
        "stat, p = ttest_ind(target[:16], target[16:])\n",
        "if p <= alpha:\n",
        "  print(f'({p}) Reject H0: Population means differ.')\n",
        "else:\n",
        "  print(f'({p}) Accept H0: Population means are same.')"
      ],
      "metadata": {
        "colab": {
          "base_uri": "https://localhost:8080/"
        },
        "id": "nMJ23vYmbGa7",
        "outputId": "3a3f58c4-cd5e-4736-fafe-ff1724e1de55"
      },
      "execution_count": null,
      "outputs": [
        {
          "output_type": "stream",
          "name": "stdout",
          "text": [
            "(0.07542298020349125) Accept H0: Population means are same.\n"
          ]
        }
      ]
    },
    {
      "cell_type": "markdown",
      "source": [
        "Here, we split the mpg col of the dataset into two samples and performed t-test.\n",
        "\n",
        "The means of the groups **do not** seem to have a statistically significant difference."
      ],
      "metadata": {
        "id": "lVpo-OeSbrNS"
      }
    }
  ]
}