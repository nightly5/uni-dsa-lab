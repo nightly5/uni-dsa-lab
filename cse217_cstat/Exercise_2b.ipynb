{
  "nbformat": 4,
  "nbformat_minor": 0,
  "metadata": {
    "colab": {
      "provenance": []
    },
    "kernelspec": {
      "name": "python3",
      "display_name": "Python 3"
    },
    "language_info": {
      "name": "python"
    }
  },
  "cells": [
    {
      "cell_type": "markdown",
      "source": [
        "### Exercise 2b\n",
        "\n",
        "Working with binary files"
      ],
      "metadata": {
        "id": "UWSDCjypRE6A"
      }
    },
    {
      "cell_type": "code",
      "execution_count": null,
      "metadata": {
        "id": "Jo9EZNcZRBFK"
      },
      "outputs": [],
      "source": [
        "import pickle"
      ]
    },
    {
      "cell_type": "code",
      "source": [
        "# Storing in binary file\n",
        "\n",
        "num = [[1, 2, 3], [4, 5, 6], [7, 8, 9]]\n",
        "print(\"Storing a matrix in numbers.bin...\")\n",
        "with open('numbers.bin', 'wb') as f:\n",
        "  pickle.dump(num, f)\n",
        "print(\"Saved.\")\n",
        "\n",
        "# Printing all numbers\n",
        "\n",
        "print(\"Loading from the binary file...\")\n",
        "with open('numbers.bin', 'rb') as f:\n",
        "  bin_data = pickle.load(f)\n",
        "  for row in bin_data:\n",
        "    for n in row:\n",
        "      print(n, end=' ')\n",
        "    print()"
      ],
      "metadata": {
        "colab": {
          "base_uri": "https://localhost:8080/"
        },
        "id": "ngcZjqYWRNbO",
        "outputId": "4747aef9-fe34-4438-97de-8294dd050535"
      },
      "execution_count": null,
      "outputs": [
        {
          "output_type": "stream",
          "name": "stdout",
          "text": [
            "Storing a matrix in numbers.bin...\n",
            "Saved.\n",
            "Loading from the binary file...\n",
            "1 2 3 \n",
            "4 5 6 \n",
            "7 8 9 \n"
          ]
        }
      ]
    },
    {
      "cell_type": "code",
      "source": [
        "# Copying data from one file to another\n",
        "f1 = open('numbers.bin', 'rb')\n",
        "f2 = open('copy.bin', 'wb')\n",
        "\n",
        "bin_data = f1.read()\n",
        "print(f\"Data read from numbers.bin: {bin_data}\")\n",
        "print(f\"Actual data: {pickle.loads(bin_data)}\")\n",
        "\n",
        "print(\"Saving data to copy.bin...\")\n",
        "f2.write(bin_data)\n",
        "print(\"Saved.\")\n",
        "\n",
        "f1.close()\n",
        "f2.close()\n",
        "\n",
        "f = open(\"copy.bin\", \"rb\")\n",
        "copy_bin_data = pickle.load(f)\n",
        "print(f\"Data read from copy.bin: {copy_bin_data}\")"
      ],
      "metadata": {
        "colab": {
          "base_uri": "https://localhost:8080/"
        },
        "id": "bSsNifZUSSnW",
        "outputId": "b33d00af-a5f0-4759-b20f-d5d406d593d5"
      },
      "execution_count": null,
      "outputs": [
        {
          "output_type": "stream",
          "name": "stdout",
          "text": [
            "Data read from numbers.bin: b'\\x80\\x04\\x95#\\x00\\x00\\x00\\x00\\x00\\x00\\x00]\\x94(]\\x94(K\\x01K\\x02K\\x03e]\\x94(K\\x04K\\x05K\\x06e]\\x94(K\\x07K\\x08K\\tee.'\n",
            "Actual data: [[1, 2, 3], [4, 5, 6], [7, 8, 9]]\n",
            "Saving data to copy.bin...\n",
            "Saved.\n",
            "Data read from copy.bin: [[1, 2, 3], [4, 5, 6], [7, 8, 9]]\n"
          ]
        }
      ]
    }
  ]
}