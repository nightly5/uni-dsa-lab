{
  "nbformat": 4,
  "nbformat_minor": 0,
  "metadata": {
    "colab": {
      "provenance": []
    },
    "kernelspec": {
      "name": "python3",
      "display_name": "Python 3"
    },
    "language_info": {
      "name": "python"
    }
  },
  "cells": [
    {
      "cell_type": "code",
      "execution_count": null,
      "metadata": {
        "id": "rQ9kU58wO3tZ"
      },
      "outputs": [],
      "source": [
        "import numpy as np"
      ]
    },
    {
      "cell_type": "code",
      "source": [
        "x = np.matrix('1 2 3; 4 5 6')\n",
        "y = np.matrix([[1, 2, 3], [4, 5, 6]])\n",
        "sum = x + y\n",
        "xT = x.T\n",
        "yT = y.transpose()\n",
        "dot = np.dot(x, yT)\n",
        "print(f'x: {x}')\n",
        "print(f'y: {y}')\n",
        "print(f'sum: {sum}')\n",
        "print(f'xT: {xT}')\n",
        "print(f'yT: {yT}')\n",
        "print(f'dot: {dot}')\n",
        "print(f'dot other way: {x.dot(yT)}')\n",
        "print(f'x: {x}')\n",
        "print(f'diff: {x - y}')"
      ],
      "metadata": {
        "id": "EbtmjCuMPFO2",
        "outputId": "ea018661-9793-4638-f139-be19410406ab",
        "colab": {
          "base_uri": "https://localhost:8080/"
        }
      },
      "execution_count": null,
      "outputs": [
        {
          "output_type": "stream",
          "name": "stdout",
          "text": [
            "x: [[1 2 3]\n",
            " [4 5 6]]\n",
            "y: [[1 2 3]\n",
            " [4 5 6]]\n",
            "sum: [[ 2  4  6]\n",
            " [ 8 10 12]]\n",
            "xT: [[1 4]\n",
            " [2 5]\n",
            " [3 6]]\n",
            "yT: [[1 4]\n",
            " [2 5]\n",
            " [3 6]]\n",
            "dot: [[14 32]\n",
            " [32 77]]\n",
            "dot other way: [[14 32]\n",
            " [32 77]]\n",
            "x: [[1 2 3]\n",
            " [4 5 6]]\n",
            "diff: [[0 0 0]\n",
            " [0 0 0]]\n"
          ]
        }
      ]
    }
  ]
}