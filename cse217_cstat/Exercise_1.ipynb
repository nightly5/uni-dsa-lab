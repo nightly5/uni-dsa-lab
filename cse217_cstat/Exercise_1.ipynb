{
  "nbformat": 4,
  "nbformat_minor": 0,
  "metadata": {
    "colab": {
      "provenance": []
    },
    "kernelspec": {
      "name": "python3",
      "display_name": "Python 3"
    },
    "language_info": {
      "name": "python"
    }
  },
  "cells": [
    {
      "cell_type": "markdown",
      "source": [
        "### Exercise 1\n",
        "\n",
        "Menu driven programs for norm functions"
      ],
      "metadata": {
        "id": "3j_YHyDJB_1z"
      }
    },
    {
      "cell_type": "code",
      "source": [
        "import numpy as np"
      ],
      "metadata": {
        "id": "qo4POCTKMDCf"
      },
      "execution_count": 1,
      "outputs": []
    },
    {
      "cell_type": "code",
      "execution_count": 4,
      "metadata": {
        "colab": {
          "base_uri": "https://localhost:8080/"
        },
        "id": "G86N1DWFB7k2",
        "outputId": "9324f2b7-c843-4d48-8aa1-cda758e3ba7e"
      },
      "outputs": [
        {
          "output_type": "stream",
          "name": "stdout",
          "text": [
            "1. L1 norm\n",
            "2. L2 norm\n",
            "3. Orthogonality\n",
            "4. Max norm\n",
            "5. Exit\n",
            "\n",
            "[choose] 4\n",
            "Enter the elements: 232 121 -512 123 243\n",
            "The max norm is 512.0.\n",
            "1. L1 norm\n",
            "2. L2 norm\n",
            "3. Orthogonality\n",
            "4. Max norm\n",
            "5. Exit\n",
            "\n",
            "[choose] 1\n",
            "Enter the elements: 2 4 -6 2 1\n",
            "The L1 norm is 15.0.\n",
            "1. L1 norm\n",
            "2. L2 norm\n",
            "3. Orthogonality\n",
            "4. Max norm\n",
            "5. Exit\n",
            "\n",
            "[choose] 2\n",
            "Enter the elements: 2 4 -6 2 1\n",
            "The L2 norm is 7.810249675906654.\n",
            "1. L1 norm\n",
            "2. L2 norm\n",
            "3. Orthogonality\n",
            "4. Max norm\n",
            "5. Exit\n",
            "\n",
            "[choose] 3\n",
            "Enter the elements: 1 0 0\n",
            "Enter the elements: 0 1 0\n",
            "The given vectors are orthogonal.\n",
            "1. L1 norm\n",
            "2. L2 norm\n",
            "3. Orthogonality\n",
            "4. Max norm\n",
            "5. Exit\n",
            "\n",
            "[choose] 5\n",
            "Exiting.\n"
          ]
        }
      ],
      "source": [
        "def lp_norm(x, p):\n",
        "  return sum((abs(xi) ** p) for xi in x) ** (1/p)\n",
        "\n",
        "def max_norm(x):\n",
        "  return max(abs(xi) for xi in x)\n",
        "\n",
        "def orthogonal(x, y):\n",
        "  xT = np.transpose(x)\n",
        "  return np.dot(xT, y) == 0\n",
        "\n",
        "def get_input():\n",
        "  return [float(xi) for xi in input(\"Enter the elements: \").split()]\n",
        "\n",
        "while True:\n",
        "  print(\n",
        "      '1. L1 norm\\n'\n",
        "      '2. L2 norm\\n'\n",
        "      '3. Orthogonality\\n'\n",
        "      '4. Max norm\\n'\n",
        "      '5. Exit\\n'\n",
        "  )\n",
        "  opt = int(input(\"[choose] \"))\n",
        "\n",
        "  if opt not in range(1, 6):\n",
        "    print(\"Invalid choice.\")\n",
        "    break\n",
        "  elif opt == 5:\n",
        "    print(\"Exiting.\")\n",
        "    break\n",
        "\n",
        "  x = get_input()\n",
        "  if opt == 1:\n",
        "    print(f\"The L1 norm is {lp_norm(x, 1)}.\")\n",
        "  elif opt == 2:\n",
        "    print(f\"The L2 norm is {lp_norm(x, 2)}.\")\n",
        "  elif opt == 3:\n",
        "    y = get_input()\n",
        "    print(\n",
        "        \"The given vectors are{}orthogonal.\"\n",
        "          .format(' not ' if not orthogonal(x,y) else ' ')\n",
        "    )\n",
        "  elif opt == 4:\n",
        "    print(f\"The max norm is {max_norm(x)}.\")\n",
        "  elif opt == 5:\n",
        "    break\n",
        "  else:\n",
        "    print(\"Invalid choice.\")\n",
        "    break"
      ]
    }
  ]
}