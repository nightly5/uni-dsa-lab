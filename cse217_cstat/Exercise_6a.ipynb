{
  "nbformat": 4,
  "nbformat_minor": 0,
  "metadata": {
    "colab": {
      "provenance": []
    },
    "kernelspec": {
      "name": "python3",
      "display_name": "Python 3"
    },
    "language_info": {
      "name": "python"
    }
  },
  "cells": [
    {
      "cell_type": "markdown",
      "source": [
        "MLR using statsmodels"
      ],
      "metadata": {
        "id": "dp-JD-NkEmE8"
      }
    },
    {
      "cell_type": "code",
      "execution_count": null,
      "metadata": {
        "id": "08Scb6hUC02p"
      },
      "outputs": [],
      "source": [
        "import numpy as np"
      ]
    },
    {
      "cell_type": "code",
      "source": [
        "y = np.matrix([21, 17, 10, 33]).T\n",
        "x = np.matrix([[2, 4, 6, 2], [110, 123, 205, 65]]).T"
      ],
      "metadata": {
        "id": "vxY_-2fcFDM8"
      },
      "execution_count": null,
      "outputs": []
    },
    {
      "cell_type": "code",
      "source": [
        "import statsmodels.api as sm"
      ],
      "metadata": {
        "id": "J30ylI74C6LG"
      },
      "execution_count": null,
      "outputs": []
    },
    {
      "cell_type": "code",
      "source": [
        "# Design matrix creation\n",
        "z = sm.add_constant(x)\n",
        "\n",
        "# Create Ordinary Least Squares model and fit the y values to params\n",
        "model = sm.OLS(y, z)\n",
        "results = model.fit()\n",
        "\n",
        "# Print results\n",
        "beta = results.params\n",
        "ycap = results.fittedvalues\n",
        "\n",
        "print(\"Multiple linear regression\")\n",
        "print(f\"Inputs:\\nTarget matrix y\\n{y}\\nFeature matrix x:\\n{x}\")\n",
        "print(results.summary())\n",
        "print(f\"\\nEstimated model parameters bcap:\\n{beta}\")\n",
        "print(f\"Estimated values of target:\\n{ycap}\\n\")"
      ],
      "metadata": {
        "colab": {
          "base_uri": "https://localhost:8080/"
        },
        "id": "kI6gQn8wC7_k",
        "outputId": "b18611e2-6a86-4935-cd3f-d221b7b84209"
      },
      "execution_count": null,
      "outputs": [
        {
          "output_type": "stream",
          "name": "stdout",
          "text": [
            "Multiple linear regression\n",
            "Inputs:\n",
            "Target matrix y\n",
            "[[21]\n",
            " [17]\n",
            " [10]\n",
            " [33]]\n",
            "Feature matrix x:\n",
            "[[  2 110]\n",
            " [  4 123]\n",
            " [  6 205]\n",
            " [  2  65]]\n",
            "                            OLS Regression Results                            \n",
            "==============================================================================\n",
            "Dep. Variable:                      y   R-squared:                       0.889\n",
            "Model:                            OLS   Adj. R-squared:                  0.666\n",
            "Method:                 Least Squares   F-statistic:                     3.987\n",
            "Date:                Sat, 23 Sep 2023   Prob (F-statistic):              0.334\n",
            "Time:                        08:20:08   Log-Likelihood:                -9.7750\n",
            "No. Observations:                   4   AIC:                             25.55\n",
            "Df Residuals:                       1   BIC:                             23.71\n",
            "Df Model:                           2                                         \n",
            "Covariance Type:            nonrobust                                         \n",
            "==============================================================================\n",
            "                 coef    std err          t      P>|t|      [0.025      0.975]\n",
            "------------------------------------------------------------------------------\n",
            "const         39.9994      7.618      5.251      0.120     -56.795     136.794\n",
            "x1             0.6103      4.532      0.135      0.915     -56.980      58.201\n",
            "x2            -0.1740      0.149     -1.171      0.450      -2.063       1.715\n",
            "==============================================================================\n",
            "Omnibus:                          nan   Durbin-Watson:                   1.498\n",
            "Prob(Omnibus):                    nan   Jarque-Bera (JB):                0.425\n",
            "Skew:                          -0.336   Prob(JB):                        0.808\n",
            "Kurtosis:                       1.551   Cond. No.                         374.\n",
            "==============================================================================\n",
            "\n",
            "Notes:\n",
            "[1] Standard Errors assume that the covariance matrix of the errors is correctly specified.\n",
            "\n",
            "Estimated model parameters bcap:\n",
            "[39.99941793  0.61030268 -0.17403958]\n",
            "Estimated values of target:\n",
            "[22.07566938 21.03376019  7.98311991 29.90745052]\n",
            "\n"
          ]
        },
        {
          "output_type": "stream",
          "name": "stderr",
          "text": [
            "/usr/local/lib/python3.10/dist-packages/statsmodels/stats/stattools.py:74: ValueWarning: omni_normtest is not valid with less than 8 observations; 4 samples were given.\n",
            "  warn(\"omni_normtest is not valid with less than 8 observations; %i \"\n"
          ]
        }
      ]
    },
    {
      "cell_type": "code",
      "source": [
        "# Predict target for new x\n",
        "x_new = sm.add_constant(np.arange(8).reshape((-1, 2)))\n",
        "print(results.predict(x_new))"
      ],
      "metadata": {
        "colab": {
          "base_uri": "https://localhost:8080/"
        },
        "id": "OiAxh3oTG3Zz",
        "outputId": "3470193f-65a5-4b02-beed-de023dd7df71"
      },
      "execution_count": null,
      "outputs": [
        {
          "output_type": "stream",
          "name": "stdout",
          "text": [
            "[39.82537835 40.69790454 41.57043073 42.44295693]\n"
          ]
        }
      ]
    }
  ]
}