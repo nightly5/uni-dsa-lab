{
  "nbformat": 4,
  "nbformat_minor": 0,
  "metadata": {
    "colab": {
      "provenance": []
    },
    "kernelspec": {
      "name": "python3",
      "display_name": "Python 3"
    },
    "language_info": {
      "name": "python"
    }
  },
  "cells": [
    {
      "cell_type": "markdown",
      "source": [
        "### Program 1\n",
        "\n",
        "Find $L_2$ norm of a vector."
      ],
      "metadata": {
        "id": "61WW9vyqVDMA"
      }
    },
    {
      "cell_type": "code",
      "execution_count": null,
      "metadata": {
        "colab": {
          "base_uri": "https://localhost:8080/"
        },
        "id": "vUZLFeIt-D-k",
        "outputId": "852be05a-beba-413f-9ef0-df371a0bf0dd"
      },
      "outputs": [
        {
          "name": "stdout",
          "output_type": "stream",
          "text": [
            "Enter number of elements: 5\n",
            "Enter the elements: \n",
            "-15\n",
            "20\n",
            "-23\n",
            "5\n",
            "16\n"
          ]
        },
        {
          "output_type": "execute_result",
          "data": {
            "text/plain": [
              "[-15, 20, -23, 5, 16]"
            ]
          },
          "metadata": {},
          "execution_count": 1
        }
      ],
      "source": [
        "# Getting input\n",
        "x = []\n",
        "n = int(input(\"Enter number of elements: \"))\n",
        "print(\"Enter the elements: \")\n",
        "for i in range(n):\n",
        "  x.append(int(input()))\n",
        "x"
      ]
    },
    {
      "cell_type": "code",
      "source": [
        "# lp norm\n",
        "def lp_norm(x: list[int | float], p: int) -> float:\n",
        "   return sum(abs(xi) ** p for xi in x) ** (1/p)\n",
        "lp_norm(x, 2)"
      ],
      "metadata": {
        "colab": {
          "base_uri": "https://localhost:8080/"
        },
        "id": "W9hc8C4n_zJX",
        "outputId": "1736a7db-5caf-48e1-e9f7-15234206e255"
      },
      "execution_count": null,
      "outputs": [
        {
          "output_type": "execute_result",
          "data": {
            "text/plain": [
              "37.881393849751625"
            ]
          },
          "metadata": {},
          "execution_count": 2
        }
      ]
    },
    {
      "cell_type": "markdown",
      "source": [
        "### Program 2\n",
        "\n",
        "Find Max norm ($L_\\alpha$) of a vector."
      ],
      "metadata": {
        "id": "gVozBpSTVLJX"
      }
    },
    {
      "cell_type": "code",
      "source": [
        "# max norm\n",
        "def max_norm(x: list[int | float]) -> float:\n",
        "  return max(abs(xi) for xi in x)\n",
        "max_norm(x)"
      ],
      "metadata": {
        "colab": {
          "base_uri": "https://localhost:8080/"
        },
        "id": "kIGbIP29A3LY",
        "outputId": "72314dea-94ee-44c2-85d9-009d54a176ea"
      },
      "execution_count": null,
      "outputs": [
        {
          "output_type": "execute_result",
          "data": {
            "text/plain": [
              "23"
            ]
          },
          "metadata": {},
          "execution_count": 3
        }
      ]
    },
    {
      "cell_type": "code",
      "source": [
        "def max_norm_manual(x: list[int | float]) -> float:\n",
        "  max_norm = x[0]\n",
        "  for xi in x[1::]:\n",
        "    if (a := abs(xi)) > max_norm:\n",
        "      max_norm = a\n",
        "  return max_norm\n",
        "max_norm(x)"
      ],
      "metadata": {
        "colab": {
          "base_uri": "https://localhost:8080/"
        },
        "id": "DNKIjYvUD9Ee",
        "outputId": "a6c8775d-25de-4e3b-f050-77b123c4bbd6"
      },
      "execution_count": null,
      "outputs": [
        {
          "output_type": "execute_result",
          "data": {
            "text/plain": [
              "23"
            ]
          },
          "metadata": {},
          "execution_count": 4
        }
      ]
    },
    {
      "cell_type": "markdown",
      "source": [
        "### Program 3\n",
        "\n",
        "Find sum absolute error and mean absolute error for two vectors."
      ],
      "metadata": {
        "id": "U9ATmmMLVVeX"
      }
    },
    {
      "cell_type": "code",
      "source": [
        "# Get two vectors\n",
        "v1 = [float(el) for el in input(\"Enter the elements for v1: \").split()]\n",
        "v2 = [float(el) for el in input(\"Enter the elements for v2: \").split()]\n",
        "assert len(v1) == len(v2), \"Can't use these vectors for calculating error.\"\n",
        "print(f'v1: {v1}')\n",
        "print(f'v2: {v2}')"
      ],
      "metadata": {
        "colab": {
          "base_uri": "https://localhost:8080/"
        },
        "id": "7MQlWKo-BrfI",
        "outputId": "bb100fa2-a404-47e1-c2d7-14700d4ea2b0"
      },
      "execution_count": null,
      "outputs": [
        {
          "output_type": "stream",
          "name": "stdout",
          "text": [
            "Enter the elements for v1: 20 21 23\n",
            "Enter the elements for v2: 20.5 22 22\n",
            "v1: [20.0, 21.0, 23.0]\n",
            "v2: [20.5, 22.0, 22.0]\n"
          ]
        }
      ]
    },
    {
      "cell_type": "code",
      "source": [
        "# Sum absolute error\n",
        "p = 1\n",
        "v3 = [vi - v2[i] for i, vi in enumerate(v1)]\n",
        "sae = sum(abs(vi) ** p for vi in v3)\n",
        "sae"
      ],
      "metadata": {
        "colab": {
          "base_uri": "https://localhost:8080/"
        },
        "id": "j-1By_PEGGLG",
        "outputId": "42c7cf80-61dc-4774-cb98-0af2b00f7144"
      },
      "execution_count": null,
      "outputs": [
        {
          "output_type": "execute_result",
          "data": {
            "text/plain": [
              "2.5"
            ]
          },
          "metadata": {},
          "execution_count": 6
        }
      ]
    },
    {
      "cell_type": "code",
      "source": [
        "# Mean absolute error\n",
        "mae = sae / len(v3)\n",
        "mae"
      ],
      "metadata": {
        "colab": {
          "base_uri": "https://localhost:8080/"
        },
        "id": "rnDlZFcdDXDY",
        "outputId": "61d01e87-fb7c-4585-f9b1-ede34cf8b851"
      },
      "execution_count": null,
      "outputs": [
        {
          "output_type": "execute_result",
          "data": {
            "text/plain": [
              "0.8333333333333334"
            ]
          },
          "metadata": {},
          "execution_count": 7
        }
      ]
    },
    {
      "cell_type": "markdown",
      "source": [
        "### Program 4\n",
        "\n",
        "Find sum squared error and mean squared error for two vectors."
      ],
      "metadata": {
        "id": "dhBlmnjqVbxQ"
      }
    },
    {
      "cell_type": "code",
      "source": [
        "# Sum square error\n",
        "p = 2\n",
        "v3 = [vi - v2[i] for i, vi in enumerate(v1)]\n",
        "sse = sum(abs(vi) ** p for vi in v3)\n",
        "sse"
      ],
      "metadata": {
        "colab": {
          "base_uri": "https://localhost:8080/"
        },
        "id": "0ofS0mRZHTdF",
        "outputId": "4042d352-abd3-4e23-e04a-ad6a5b013a00"
      },
      "execution_count": null,
      "outputs": [
        {
          "output_type": "execute_result",
          "data": {
            "text/plain": [
              "2.25"
            ]
          },
          "metadata": {},
          "execution_count": 8
        }
      ]
    },
    {
      "cell_type": "code",
      "source": [
        "# Mean square error\n",
        "mse = sse / len(v3)\n",
        "mse"
      ],
      "metadata": {
        "colab": {
          "base_uri": "https://localhost:8080/"
        },
        "id": "u49nOUgNEwf4",
        "outputId": "16a81815-8e32-4272-c10b-039792c9602e"
      },
      "execution_count": null,
      "outputs": [
        {
          "output_type": "execute_result",
          "data": {
            "text/plain": [
              "0.75"
            ]
          },
          "metadata": {},
          "execution_count": 9
        }
      ]
    },
    {
      "cell_type": "code",
      "source": [
        "# Root mean square error\n",
        "rmse = mse ** (1/2)\n",
        "rmse"
      ],
      "metadata": {
        "colab": {
          "base_uri": "https://localhost:8080/"
        },
        "id": "UAZQGrJ8FKP9",
        "outputId": "0d625c02-a371-4eed-9148-144f017861bb"
      },
      "execution_count": null,
      "outputs": [
        {
          "output_type": "execute_result",
          "data": {
            "text/plain": [
              "0.8660254037844386"
            ]
          },
          "metadata": {},
          "execution_count": 10
        }
      ]
    },
    {
      "cell_type": "markdown",
      "source": [
        "### Program 5\n",
        "\n",
        "Find whether two vectors $[-1, -2, 0]$ and $[2, -1, 3]$ are\n",
        "  - Orthogonal.\n",
        "  - Orthonormal.\n"
      ],
      "metadata": {
        "id": "CTJWYrWCVhBe"
      }
    },
    {
      "cell_type": "code",
      "source": [
        "# Orthogonal vectors\n",
        "def orthogonal(u: list[int | float], v: list[int | float]) -> bool:\n",
        "  assert len(v1) == len(v2), \"Can't perform dot product on vectors of different dimensions.\"\n",
        "  l2_u = lp_norm(u, 2)\n",
        "  l2_v = lp_norm(v, 2)\n",
        "  if l2_u and l2_v:\n",
        "    dot_pr = sum(ui * v[i] for i, ui in enumerate(u))\n",
        "    return dot_pr == 0\n",
        "  return False\n",
        "\n",
        "u = [-1, -2, 0]\n",
        "v = [2, -1, 3]\n",
        "if orthogonal(u, v):\n",
        "  print(\"The vectors are orthogonal.\")\n",
        "else:\n",
        "  print(\"The vectors are not orthogonal.\")"
      ],
      "metadata": {
        "colab": {
          "base_uri": "https://localhost:8080/"
        },
        "id": "UDWy_lSTFQ11",
        "outputId": "b3a2cf5b-1b49-4754-ea64-1c54bdff773e"
      },
      "execution_count": null,
      "outputs": [
        {
          "output_type": "stream",
          "name": "stdout",
          "text": [
            "The vectors are orthogonal.\n"
          ]
        }
      ]
    },
    {
      "cell_type": "code",
      "source": [
        "# Orthonormal vectors\n",
        "def orthonormal(u: list[int | float], v: list[int | float]) -> bool:\n",
        "  return orthogonal(u, v) and lp_norm(u, 2) == 1 and lp_norm(v, 2) == 1\n",
        "\n",
        "print(f\"The vectors are{' not ' if not orthonormal(u, v) else ' '}orthonormal.\")"
      ],
      "metadata": {
        "colab": {
          "base_uri": "https://localhost:8080/"
        },
        "id": "JJ05fftALhcc",
        "outputId": "9b774e38-f329-4b7a-9cb2-8877b5cdcc19"
      },
      "execution_count": null,
      "outputs": [
        {
          "output_type": "stream",
          "name": "stdout",
          "text": [
            "The vectors are not orthonormal.\n"
          ]
        }
      ]
    }
  ]
}