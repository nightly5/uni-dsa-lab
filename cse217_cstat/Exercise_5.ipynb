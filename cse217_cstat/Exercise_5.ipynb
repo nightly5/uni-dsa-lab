{
  "nbformat": 4,
  "nbformat_minor": 0,
  "metadata": {
    "colab": {
      "provenance": []
    },
    "kernelspec": {
      "name": "python3",
      "display_name": "Python 3"
    },
    "language_info": {
      "name": "python"
    }
  },
  "cells": [
    {
      "cell_type": "code",
      "execution_count": null,
      "metadata": {
        "id": "MTQsfnOsKjHI"
      },
      "outputs": [],
      "source": [
        "import numpy as np"
      ]
    },
    {
      "cell_type": "code",
      "source": [
        "def mvlr_model(y, x):\n",
        "  # Design matrix creation\n",
        "  z = np.insert(\n",
        "      x, # matrix\n",
        "      0, # position: start\n",
        "      1, # insert 1s\n",
        "      1, # along axis 1 (column)\n",
        "  )\n",
        "  return (z.T @ z).I @ z.T @ y\n",
        "\n",
        "def mvlr_predict(x, model):\n",
        "  z = np.insert(x, 0, 1, 1)\n",
        "  return z @ model\n",
        "\n",
        "mlr_model = mvlr_model\n",
        "mlr_predict = mvlr_predict"
      ],
      "metadata": {
        "id": "7QEDCppzK8GG"
      },
      "execution_count": null,
      "outputs": []
    },
    {
      "cell_type": "code",
      "source": [
        "y = np.matrix([21, 17, 10, 33]).T\n",
        "x = np.matrix([[2, 4, 6, 2], [110, 123, 205, 65]]).T\n",
        "beta = mlr_model(y, x)\n",
        "ycap = mlr_predict(x, beta)\n",
        "e = ycap - y\n",
        "print(\"Multiple linear regression\")\n",
        "print(f\"Inputs:\\nTarget matrix y\\n{y}\\nFeature matrix x:\\n{x}\")\n",
        "print(f\"Estimated model parameter bcap:\\n{beta}\")\n",
        "print(f\"Estimated values of target:\\n{ycap}\")\n",
        "print(f\"Error in estimation:\\n{e}\")"
      ],
      "metadata": {
        "colab": {
          "base_uri": "https://localhost:8080/"
        },
        "id": "7ci9UWLgKqrC",
        "outputId": "02376128-8999-4b29-8c10-167401c0d72d"
      },
      "execution_count": null,
      "outputs": [
        {
          "output_type": "stream",
          "name": "stdout",
          "text": [
            "Multiple linear regression\n",
            "Inputs:\n",
            "Target matrix y\n",
            "[[21]\n",
            " [17]\n",
            " [10]\n",
            " [33]]\n",
            "Feature matrix x:\n",
            "[[  2 110]\n",
            " [  4 123]\n",
            " [  6 205]\n",
            " [  2  65]]\n",
            "Estimated model parameter bcap:\n",
            "[[39.99941793]\n",
            " [ 0.61030268]\n",
            " [-0.17403958]]\n",
            "Estimated values of target:\n",
            "[[22.07566938]\n",
            " [21.03376019]\n",
            " [ 7.98311991]\n",
            " [29.90745052]]\n",
            "Error in estimation:\n",
            "[[ 1.07566938]\n",
            " [ 4.03376019]\n",
            " [-2.01688009]\n",
            " [-3.09254948]]\n"
          ]
        }
      ]
    },
    {
      "cell_type": "code",
      "source": [
        "y1 = np.matrix([[10, 12, 11], [100, 110, 105]]).T\n",
        "x1 = np.matrix([[9, 8, 7], [62, 58, 64]]).T\n",
        "beta1 = mvlr_model(y1, x1)\n",
        "ycap1 = mvlr_predict(x1, beta1)\n",
        "e1 = ycap1 - y1\n",
        "print(\"Multivariate linear regression\")\n",
        "print(f\"Inputs:\\nTarget matrix y\\n{y1}\\nFeature matrix x:\\n{x1}\")\n",
        "print(f\"Estimated model parameter bcap:\\n{beta1}\")\n",
        "print(f\"Estimated values of target:\\n{ycap1}\")\n",
        "print(f\"Error in estimation:\\n{e1}\")"
      ],
      "metadata": {
        "colab": {
          "base_uri": "https://localhost:8080/"
        },
        "id": "PIaQzNPuX7e5",
        "outputId": "a98f0b7c-65ba-4e90-d92d-ab9d0a3d32e9"
      },
      "execution_count": null,
      "outputs": [
        {
          "output_type": "stream",
          "name": "stdout",
          "text": [
            "Multivariate linear regression\n",
            "Inputs:\n",
            "Target matrix y\n",
            "[[ 10 100]\n",
            " [ 12 110]\n",
            " [ 11 105]]\n",
            "Feature matrix x:\n",
            "[[ 9 62]\n",
            " [ 8 58]\n",
            " [ 7 64]]\n",
            "Estimated model parameter bcap:\n",
            "[[ 35.8 229. ]\n",
            " [ -0.8  -4. ]\n",
            " [ -0.3  -1.5]]\n",
            "Estimated values of target:\n",
            "[[ 10. 100.]\n",
            " [ 12. 110.]\n",
            " [ 11. 105.]]\n",
            "Error in estimation:\n",
            "[[-5.18696197e-13 -4.49063009e-12]\n",
            " [-2.06057393e-13 -2.48689958e-12]\n",
            " [-4.40536496e-13 -3.86535248e-12]]\n"
          ]
        }
      ]
    }
  ]
}