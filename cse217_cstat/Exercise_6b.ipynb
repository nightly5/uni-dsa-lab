{
  "nbformat": 4,
  "nbformat_minor": 0,
  "metadata": {
    "colab": {
      "provenance": []
    },
    "kernelspec": {
      "name": "python3",
      "display_name": "Python 3"
    },
    "language_info": {
      "name": "python"
    }
  },
  "cells": [
    {
      "cell_type": "markdown",
      "source": [
        "MLR using scikit-learn"
      ],
      "metadata": {
        "id": "cfDEkKQNIs_K"
      }
    },
    {
      "cell_type": "code",
      "execution_count": null,
      "metadata": {
        "id": "-vhMICRFGdws"
      },
      "outputs": [],
      "source": [
        "import numpy as np"
      ]
    },
    {
      "cell_type": "code",
      "source": [
        "y = np.array([21, 17, 10, 33]).T\n",
        "x = np.array([[2, 4, 6, 2], [110, 123, 205, 65]]).T"
      ],
      "metadata": {
        "id": "CE1kzM7oIn2y"
      },
      "execution_count": null,
      "outputs": []
    },
    {
      "cell_type": "code",
      "source": [
        "from sklearn.linear_model import LinearRegression"
      ],
      "metadata": {
        "id": "S7F85JIBIo75"
      },
      "execution_count": null,
      "outputs": []
    },
    {
      "cell_type": "code",
      "source": [
        "model = LinearRegression().fit(x, y)"
      ],
      "metadata": {
        "id": "8psC1B-OIqLD"
      },
      "execution_count": null,
      "outputs": []
    },
    {
      "cell_type": "code",
      "source": [
        "beta = np.insert(model.coef_, 0, model.intercept_, 0)\n",
        "ycap = model.predict(x)\n",
        "r_sq = model.score(x, y)\n",
        "error = ycap - y\n",
        "sse = sum(error ** 2)\n",
        "\n",
        "print(\n",
        "  \"Multiple linear regression\\n\"\n",
        "  f\"Inputs:\\nTarget matrix y\\n{y}\\nFeature matrix x:\\n{x}\\n\"\n",
        "  f\"Estimated model parameters bcap:\\n{beta}\\n\"\n",
        "  f\"Estimated values of target:\\n{ycap}\\n\"\n",
        "  f\"Coefficient of determination (r_sq): {r_sq}\\n\"\n",
        "  f\"Sum square error: {sse}\"\n",
        ")"
      ],
      "metadata": {
        "colab": {
          "base_uri": "https://localhost:8080/"
        },
        "id": "S-9eiNx0JLYw",
        "outputId": "8b255616-a5ba-4a82-be3c-f08f26564fca"
      },
      "execution_count": null,
      "outputs": [
        {
          "output_type": "stream",
          "name": "stdout",
          "text": [
            "Multiple linear regression\n",
            "Inputs:\n",
            "Target matrix y\n",
            "[21 17 10 33]\n",
            "Feature matrix x:\n",
            "[[  2 110]\n",
            " [  4 123]\n",
            " [  6 205]\n",
            " [  2  65]]\n",
            "Estimated model parameters bcap:\n",
            "[39.99941793  0.61030268 -0.17403958]\n",
            "Estimated values of target:\n",
            "[22.07566938 21.03376019  7.98311991 29.90745052]\n",
            "Coefficient of determination (r_sq): 0.8885741580834946\n",
            "Sum square error: 31.059953434225868\n"
          ]
        }
      ]
    },
    {
      "cell_type": "code",
      "source": [
        "# ycap without using predict method\n",
        "print(np.sum(x * model.coef_, axis = 1) + model.intercept_)"
      ],
      "metadata": {
        "colab": {
          "base_uri": "https://localhost:8080/"
        },
        "id": "emtg4q6lMubQ",
        "outputId": "1a3b3641-bf4a-4d14-8803-fade355bf58b"
      },
      "execution_count": null,
      "outputs": [
        {
          "output_type": "stream",
          "name": "stdout",
          "text": [
            "[22.07566938 21.03376019  7.98311991 29.90745052]\n"
          ]
        }
      ]
    },
    {
      "cell_type": "code",
      "source": [
        "# Predict target for new x\n",
        "x_new = np.arange(8).reshape(-1, 2)\n",
        "print(model.predict(x_new))"
      ],
      "metadata": {
        "colab": {
          "base_uri": "https://localhost:8080/"
        },
        "id": "-UYFS2EOMIN2",
        "outputId": "b8b38baa-72b9-4858-c954-25a6f97fac8e"
      },
      "execution_count": null,
      "outputs": [
        {
          "output_type": "stream",
          "name": "stdout",
          "text": [
            "[39.82537835 40.69790454 41.57043073 42.44295693]\n"
          ]
        }
      ]
    }
  ]
}