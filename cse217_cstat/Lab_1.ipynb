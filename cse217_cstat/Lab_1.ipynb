{
  "nbformat": 4,
  "nbformat_minor": 0,
  "metadata": {
    "colab": {
      "provenance": []
    },
    "kernelspec": {
      "name": "python3",
      "display_name": "Python 3"
    },
    "language_info": {
      "name": "python"
    }
  },
  "cells": [
    {
      "cell_type": "code",
      "execution_count": null,
      "metadata": {
        "colab": {
          "base_uri": "https://localhost:8080/"
        },
        "id": "gfXv-8MP8nhb",
        "outputId": "9162cf73-b6cf-45ca-a59d-21b3d8bdebe7"
      },
      "outputs": [
        {
          "output_type": "stream",
          "name": "stdout",
          "text": [
            "Hello, world!\n"
          ]
        },
        {
          "output_type": "execute_result",
          "data": {
            "text/plain": [
              "72.0"
            ]
          },
          "metadata": {},
          "execution_count": 1
        }
      ],
      "source": [
        "print(\"Hello, world!\")\n",
        "x = 12 ** 2\n",
        "x / 2\n",
        "# this is a comment"
      ]
    },
    {
      "cell_type": "code",
      "source": [
        "# String manipulations\n",
        "print('hello' + 'world')\n",
        "print('hello' * 3)\n",
        "print('hello'[0])\n",
        "print('hello'[-1])\n",
        "print('hello'[1:4])\n",
        "print(len('hello'))\n",
        "print('hello' < 'jello')\n",
        "print('e' in 'hello')"
      ],
      "metadata": {
        "colab": {
          "base_uri": "https://localhost:8080/"
        },
        "id": "KZwvf13G9pV6",
        "outputId": "8f0bac7b-9d10-463f-b7dd-d72f62c7fedd"
      },
      "execution_count": null,
      "outputs": [
        {
          "output_type": "stream",
          "name": "stdout",
          "text": [
            "helloworld\n",
            "hellohellohello\n",
            "h\n",
            "o\n",
            "ell\n",
            "5\n",
            "True\n",
            "True\n"
          ]
        }
      ]
    },
    {
      "cell_type": "code",
      "source": [
        "# deletion of list elements\n",
        "my_list = ['p', 'r', 'o', 'b', 'l', 'e', 'm']\n",
        "del my_list[2]\n",
        "print(my_list)\n",
        "del my_list[1:5]\n",
        "print(my_list)\n",
        "my_list.pop(1)\n",
        "print(my_list)"
      ],
      "metadata": {
        "colab": {
          "base_uri": "https://localhost:8080/"
        },
        "id": "1iwIoBDJ-uv1",
        "outputId": "f91a6849-b801-471e-c699-f9f4217e8c0e"
      },
      "execution_count": null,
      "outputs": [
        {
          "output_type": "stream",
          "name": "stdout",
          "text": [
            "['p', 'r', 'b', 'l', 'e', 'm']\n",
            "['p', 'm']\n",
            "['p']\n"
          ]
        }
      ]
    },
    {
      "cell_type": "code",
      "source": [
        "# list manipulations\n",
        "a = [99, \"bo'o'o'wo'a\", ['on', 'the', 'wall']]\n",
        "b = [22]\n",
        "print(a+b)\n",
        "print(a*3)\n",
        "print(a[0])\n",
        "print(a[-1])\n",
        "print(a[1:])\n",
        "print(len(a))\n",
        "print(a[1:2])"
      ],
      "metadata": {
        "colab": {
          "base_uri": "https://localhost:8080/"
        },
        "id": "pmGSTrhxANKC",
        "outputId": "7b6885c9-de31-4a94-db7c-0520be183706"
      },
      "execution_count": null,
      "outputs": [
        {
          "output_type": "stream",
          "name": "stdout",
          "text": [
            "[99, \"bo'o'o'wo'a\", ['on', 'the', 'wall'], 22]\n",
            "[99, \"bo'o'o'wo'a\", ['on', 'the', 'wall'], 99, \"bo'o'o'wo'a\", ['on', 'the', 'wall'], 99, \"bo'o'o'wo'a\", ['on', 'the', 'wall']]\n",
            "99\n",
            "['on', 'the', 'wall']\n",
            "[\"bo'o'o'wo'a\", ['on', 'the', 'wall']]\n",
            "3\n",
            "[\"bo'o'o'wo'a\"]\n"
          ]
        }
      ]
    },
    {
      "cell_type": "code",
      "source": [
        "3# i/o statements\n",
        "y = input(\"Enter something: \")\n",
        "z = int(input(\"Enter some int: \"))\n",
        "print(y, z)"
      ],
      "metadata": {
        "colab": {
          "base_uri": "https://localhost:8080/"
        },
        "id": "bzKcBjrJBDL6",
        "outputId": "890d7e21-5801-4941-f681-1e27635547aa"
      },
      "execution_count": null,
      "outputs": [
        {
          "output_type": "stream",
          "name": "stdout",
          "text": [
            "Enter something: asffsafaasa\n",
            "Enter some int: 12\n",
            "asffsafaasa 12\n"
          ]
        }
      ]
    },
    {
      "cell_type": "markdown",
      "source": [
        "### Question 1\n",
        "Check whether the given input is even or odd."
      ],
      "metadata": {
        "id": "d0PtpNT3B7g6"
      }
    },
    {
      "cell_type": "code",
      "source": [
        "n = int(input(\"Enter a number: \"))\n",
        "if n % 2 == 0:\n",
        "  print(\"{} is even\".format(n))\n",
        "else:\n",
        "  print(\"{} is odd\".format(n))"
      ],
      "metadata": {
        "colab": {
          "base_uri": "https://localhost:8080/"
        },
        "id": "lFyhxP_iBSa6",
        "outputId": "696c1713-c7cf-475e-9529-bdc988d43de9"
      },
      "execution_count": null,
      "outputs": [
        {
          "output_type": "stream",
          "name": "stdout",
          "text": [
            "Enter a number: 24\n",
            "24 is even\n"
          ]
        }
      ]
    },
    {
      "cell_type": "markdown",
      "source": [
        "### Question 2\n",
        "\n",
        "Input the two scores: score_theory and score_practical. Check that neither of\n",
        "the score exceed the maximum possible score that is 50. This also solves the\n",
        "problem of the total score not excedding 100. If either one is greater than\n",
        "50, display warning and exit."
      ],
      "metadata": {
        "id": "jv-QgERVBzCa"
      }
    },
    {
      "cell_type": "code",
      "source": [
        "score_theory = int(input(\"Enter the theory score: \"))\n",
        "score_practical = int(input(\"Enter the practical score: \"))\n",
        "\n",
        "if score_theory > 50 or score_practical > 50:\n",
        "  print(\"Invalid input: Either of the scores exceeds 50.\")\n",
        "else:\n",
        "  print(f\"Total score is {score_theory + score_practical}\")"
      ],
      "metadata": {
        "colab": {
          "base_uri": "https://localhost:8080/"
        },
        "id": "Knd2PT0xBk3x",
        "outputId": "51ea4264-ec5c-4fce-993d-8e1d11d669f7"
      },
      "execution_count": null,
      "outputs": [
        {
          "output_type": "stream",
          "name": "stdout",
          "text": [
            "Enter the theory score: 37\n",
            "Enter the practical score: 44\n",
            "Total score is 81\n"
          ]
        }
      ]
    },
    {
      "cell_type": "markdown",
      "source": [
        "### Question 3\n",
        "\n",
        "Print the even and odd characters in a string using range-based for loop."
      ],
      "metadata": {
        "id": "ROuYOcx8C9UV"
      }
    },
    {
      "cell_type": "code",
      "source": [
        "s = input(\"Enter a string: \")\n",
        "print(\"The odd characters are: \")\n",
        "for i in range(0, len(s), 2):\n",
        "  print(s[i], end=\" \")\n",
        "print()\n",
        "print(\"The even characters are: \")\n",
        "for i in range(1, len(s), 2):\n",
        "  print(s[i], end=\" \")\n",
        "print()"
      ],
      "metadata": {
        "colab": {
          "base_uri": "https://localhost:8080/"
        },
        "id": "KG_23dd0DJNa",
        "outputId": "f816467e-7551-451a-a7ae-d9946d222009"
      },
      "execution_count": null,
      "outputs": [
        {
          "output_type": "stream",
          "name": "stdout",
          "text": [
            "Enter a string: hello\n",
            "The odd characters are: \n",
            "h l o \n",
            "The even characters are: \n",
            "e l \n"
          ]
        }
      ]
    },
    {
      "cell_type": "code",
      "source": [
        "# while loop\n",
        "count = 0\n",
        "while count < 5:\n",
        "  print(f\"The count is {count}.\")\n",
        "  count += 1\n",
        "print(\"End\")"
      ],
      "metadata": {
        "colab": {
          "base_uri": "https://localhost:8080/"
        },
        "id": "uhAux9vZD3LT",
        "outputId": "b08fa39d-306d-4bb1-99b5-c391bb834817"
      },
      "execution_count": null,
      "outputs": [
        {
          "output_type": "stream",
          "name": "stdout",
          "text": [
            "The count is 0.\n",
            "The count is 1.\n",
            "The count is 2.\n",
            "The count is 3.\n",
            "The count is 4.\n",
            "End\n"
          ]
        }
      ]
    },
    {
      "cell_type": "code",
      "source": [
        "# break in while\n",
        "avl_exits = ['e', 'w', 'n', 's']\n",
        "choice = ''\n",
        "while choice not in avl_exits:\n",
        "  choice = input(\"Which exit? \")\n",
        "  if choice == 'q':\n",
        "    print('Quitting.')\n",
        "    break\n",
        "  print(choice)"
      ],
      "metadata": {
        "colab": {
          "base_uri": "https://localhost:8080/"
        },
        "id": "vnqOWipdEjOz",
        "outputId": "4cfedf02-bf1e-4525-8f05-ad475aa02e70"
      },
      "execution_count": null,
      "outputs": [
        {
          "output_type": "stream",
          "name": "stdout",
          "text": [
            "Which exit? r\n",
            "r\n",
            "Which exit? t\n",
            "t\n",
            "Which exit? q\n",
            "Quitting.\n"
          ]
        }
      ]
    },
    {
      "cell_type": "code",
      "source": [
        "# more list manipulation\n",
        "num = [2, 4, 6, 8]\n",
        "num[0] = 1\n",
        "print(num)\n",
        "num[1:4] = [3, 5, 7]\n",
        "print(num)"
      ],
      "metadata": {
        "colab": {
          "base_uri": "https://localhost:8080/"
        },
        "id": "jxSFmBxzFHpr",
        "outputId": "460f364d-a500-4a2a-f6df-328cfac2bf81"
      },
      "execution_count": null,
      "outputs": [
        {
          "output_type": "stream",
          "name": "stdout",
          "text": [
            "[1, 4, 6, 8]\n",
            "[1, 3, 5, 7]\n"
          ]
        }
      ]
    },
    {
      "cell_type": "code",
      "source": [
        "# append vs extend\n",
        "num = [1, 3, 5]\n",
        "num.append(7)\n",
        "num.append([9, 11, 13])\n",
        "print(num)\n",
        "num.extend([15, 17, 19])\n",
        "print(num)"
      ],
      "metadata": {
        "colab": {
          "base_uri": "https://localhost:8080/"
        },
        "id": "FwBh86GMFp1r",
        "outputId": "8ea3f9a0-ccad-4997-9429-cc710ca885f6"
      },
      "execution_count": null,
      "outputs": [
        {
          "output_type": "stream",
          "name": "stdout",
          "text": [
            "[1, 3, 5, 7, [9, 11, 13]]\n",
            "[1, 3, 5, 7, [9, 11, 13], 15, 17, 19]\n"
          ]
        }
      ]
    },
    {
      "cell_type": "code",
      "source": [
        "# tuples\n",
        "my_tuple = (1, 2, 'hello')\n",
        "for val in my_tuple:\n",
        "  print(val)\n",
        "\n",
        "# TypeError due to immutability\n",
        "#my_tuple[3] = 0\n",
        "#my_tuple[2] = 0\n",
        "\n",
        "new_tuple = *my_tuple, 0 # unpacking operator\n",
        "print(new_tuple)"
      ],
      "metadata": {
        "colab": {
          "base_uri": "https://localhost:8080/"
        },
        "id": "qKznUrzQF0pa",
        "outputId": "7893ff55-a430-458b-f15c-d6fc7a3ff1ca"
      },
      "execution_count": null,
      "outputs": [
        {
          "output_type": "stream",
          "name": "stdout",
          "text": [
            "1\n",
            "2\n",
            "hello\n",
            "(1, 2, 'hello', 0)\n"
          ]
        }
      ]
    },
    {
      "cell_type": "code",
      "source": [
        "# tuple packing and unpacking\n",
        "my_tuple = 1, 2, 'hello' # packing\n",
        "print(my_tuple)\n",
        "a, b, c = my_tuple\n",
        "print(a, b, c)"
      ],
      "metadata": {
        "colab": {
          "base_uri": "https://localhost:8080/"
        },
        "id": "YpxKO8iBGYEb",
        "outputId": "743fe5f7-c1c2-4c82-ae31-3de3e60c4c8d"
      },
      "execution_count": null,
      "outputs": [
        {
          "output_type": "stream",
          "name": "stdout",
          "text": [
            "(1, 2, 'hello')\n",
            "1 2 hello\n"
          ]
        }
      ]
    },
    {
      "cell_type": "code",
      "source": [
        "# sets in python\n",
        "my_set = {1.0, 'hello', (1, 2, 3)}\n",
        "print(my_set)\n",
        "my_set = {1, 2, 3, 4, 3, 2}\n",
        "print(my_set) # Duplicates removed\n",
        "#my_set = {1, 2, [3, 4]} # TypeError as list is mutable/unhashable\n",
        "#print(my_set)"
      ],
      "metadata": {
        "colab": {
          "base_uri": "https://localhost:8080/"
        },
        "id": "xIrdnRu0GnZD",
        "outputId": "44ac3f96-ee3a-421f-b6a0-a44898ffd3b5"
      },
      "execution_count": null,
      "outputs": [
        {
          "output_type": "stream",
          "name": "stdout",
          "text": [
            "{1.0, 'hello', (1, 2, 3)}\n",
            "{1, 2, 3, 4}\n"
          ]
        }
      ]
    },
    {
      "cell_type": "markdown",
      "source": [
        "### Question 4\n",
        "\n",
        "Write a program to perform matrix addition."
      ],
      "metadata": {
        "id": "K4IxCvxfHOH3"
      }
    },
    {
      "cell_type": "code",
      "source": [
        "a = []\n",
        "b = []\n",
        "dim1 = input(\"Enter dimensions of the matrices (as mxn): \").split('x')\n",
        "m, n = [int(dim.strip()) for dim in dim1]\n",
        "\n",
        "for i in range(m):\n",
        "  a.append([])\n",
        "  for j in range(n):\n",
        "    a[i].append(int(input(f\"Enter the value for a[{i+1}][{j+1}]: \")))\n",
        "\n",
        "for i in range(m):\n",
        "  b.append([])\n",
        "  for j in range(n):\n",
        "    b[i].append(int(input(f\"Enter the value for b[{i+1}][{j+1}]: \")))\n",
        "\n",
        "print(\"The resultant sum matrix is: \")\n",
        "for i in range(m):\n",
        "  for j in range(n):\n",
        "    print(a[i][j] + b[i][j], end='\\t')\n",
        "  print()\n"
      ],
      "metadata": {
        "colab": {
          "base_uri": "https://localhost:8080/"
        },
        "id": "D1sAJq7oHB1r",
        "outputId": "2afc55f7-f602-487c-e372-1c4e45d52f60"
      },
      "execution_count": null,
      "outputs": [
        {
          "output_type": "stream",
          "name": "stdout",
          "text": [
            "Enter dimensions of the matrices (as mxn): 3x2\n",
            "Enter the value for a[1][1]: 2\n",
            "Enter the value for a[1][2]: 3\n",
            "Enter the value for a[2][1]: 2\n",
            "Enter the value for a[2][2]: 3\n",
            "Enter the value for a[3][1]: 2\n",
            "Enter the value for a[3][2]: 3\n",
            "Enter the value for b[1][1]: 4\n",
            "Enter the value for b[1][2]: 6\n",
            "Enter the value for b[2][1]: 4\n",
            "Enter the value for b[2][2]: 6\n",
            "Enter the value for b[3][1]: 4\n",
            "Enter the value for b[3][2]: 6\n",
            "The resultant sum matrix is: \n",
            "6\t9\t\n",
            "6\t9\t\n",
            "6\t9\t\n"
          ]
        }
      ]
    },
    {
      "cell_type": "markdown",
      "source": [
        "### Question 5\n",
        "\n",
        "Write a program to perfom matrix multiplication."
      ],
      "metadata": {
        "id": "7Yq8-t7hKGES"
      }
    },
    {
      "cell_type": "code",
      "source": [
        "a = []\n",
        "b = []\n",
        "\n",
        "dim1 = input(\"Enter dimensions of the matrix 1 (as mxn): \").split('x')\n",
        "m, n = [int(dim.strip()) for dim in dim1]\n",
        "dim2 = input(\"Enter dimensions of the matrix 2 (as pxq): \").split('x')\n",
        "p, q = [int(dim.strip()) for dim in dim2]\n",
        "\n",
        "if not n == p:\n",
        "  print(\"n and p not equal, so can't perform matrix multiplication.\")\n",
        "else:\n",
        "  for i in range(m):\n",
        "    a.append([])\n",
        "    for j in range(n):\n",
        "      a[i].append(int(input(f\"Enter the value for a[{i+1}][{j+1}]: \")))\n",
        "\n",
        "  for i in range(p):\n",
        "    b.append([])\n",
        "    for j in range(q):\n",
        "      b[i].append(int(input(f\"Enter the value for b[{i+1}][{j+1}]: \")))\n",
        "\n",
        "  print(\"The resultant product matrix is:\")\n",
        "  for i in range(m):\n",
        "    for j in range(q):\n",
        "      sum = 0\n",
        "      for k in range(p):\n",
        "        sum += a[i][k] * b[k][j]\n",
        "      print(sum, end=\" \")\n",
        "    print()\n"
      ],
      "metadata": {
        "colab": {
          "base_uri": "https://localhost:8080/"
        },
        "id": "T8GoofGBKRsb",
        "outputId": "4bed0150-7267-4c97-ca70-8cfb775319bd"
      },
      "execution_count": null,
      "outputs": [
        {
          "output_type": "stream",
          "name": "stdout",
          "text": [
            "Enter dimensions of the matrix 1 (as mxn): 2x3\n",
            "Enter dimensions of the matrix 2 (as pxq): 3x2\n",
            "Enter the value for a[1][1]: 2\n",
            "Enter the value for a[1][2]: 2\n",
            "Enter the value for a[1][3]: 2\n",
            "Enter the value for a[2][1]: 2\n",
            "Enter the value for a[2][2]: 2\n",
            "Enter the value for a[2][3]: 2\n",
            "Enter the value for b[1][1]: 2\n",
            "Enter the value for b[1][2]: 2\n",
            "Enter the value for b[2][1]: 2\n",
            "Enter the value for b[2][2]: 2\n",
            "Enter the value for b[3][1]: 2\n",
            "Enter the value for b[3][2]: 2\n",
            "The resultant product matrix is:\n",
            "12 12 \n",
            "12 12 \n"
          ]
        }
      ]
    }
  ]
}