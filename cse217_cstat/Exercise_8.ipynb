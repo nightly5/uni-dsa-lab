{
  "nbformat": 4,
  "nbformat_minor": 0,
  "metadata": {
    "colab": {
      "provenance": []
    },
    "kernelspec": {
      "name": "python3",
      "display_name": "Python 3"
    },
    "language_info": {
      "name": "python"
    }
  },
  "cells": [
    {
      "cell_type": "code",
      "execution_count": null,
      "metadata": {
        "id": "UeC_BvoOTjyd"
      },
      "outputs": [],
      "source": [
        "import numpy as np"
      ]
    },
    {
      "cell_type": "code",
      "source": [
        "x1_m = np.array([[4.26], [1.33]])\n",
        "x2_m = np.array([[5.55], [2.03]])\n",
        "n1 = n2 = 50\n",
        "s1 = np.array([\n",
        "    [0.291, 0.049],\n",
        "    [0.049, 0.075],\n",
        "])\n",
        "s2 = np.array([\n",
        "    [0.212, 0.072],\n",
        "    [0.072, 0.837]\n",
        "])"
      ],
      "metadata": {
        "id": "-yJEUCSSUaSy"
      },
      "execution_count": null,
      "outputs": []
    },
    {
      "cell_type": "code",
      "source": [
        "s_pooled = ( 1 / (n1 + n2 - 2) ) * ( ((n1 - 1) * s1) - ((n2 - 1) * s2) )\n",
        "print(f\"S_pooled is\\n{s_pooled}\")\n",
        "s_pooled_i = np.linalg.inv(s_pooled)\n",
        "print(f\"S_pooled^-1 is\\n{s_pooled_i}\")\n",
        "a_cap = (x1_m - x2_m).T @ s_pooled_i\n",
        "print(f\"a_cap is\\n{a_cap}\")\n",
        "y1_cap = a_cap @ x1_m\n",
        "print(f\"y1_cap is {y1_cap}\")\n",
        "y2_cap = a_cap @ x2_m\n",
        "print(f\"y2_cap is {y2_cap}\")\n",
        "m_cap = (y1_cap + y2_cap) / 2\n",
        "print(f\"The midpoint is {m_cap}\")"
      ],
      "metadata": {
        "colab": {
          "base_uri": "https://localhost:8080/"
        },
        "id": "HOdGG0QnWmcK",
        "outputId": "62380ad9-7347-4bd7-f589-4ff017b148ee"
      },
      "execution_count": null,
      "outputs": [
        {
          "output_type": "stream",
          "name": "stdout",
          "text": [
            "S_pooled is\n",
            "[[ 0.0395 -0.0115]\n",
            " [-0.0115 -0.381 ]]\n",
            "S_pooled^-1 is\n",
            "[[25.09592109 -0.75748843]\n",
            " [-0.75748843 -2.60180809]]\n",
            "a_cap is\n",
            "[[-31.8434963    2.79842574]]\n",
            "y1_cap is [[-131.93138802]]\n",
            "y2_cap is [[-171.05060023]]\n",
            "The midpoint is [[-151.49099412]]\n"
          ]
        }
      ]
    },
    {
      "cell_type": "code",
      "source": [
        "x0 = np.array([[5.55, 5.55]])\n",
        "print(f\"x0 is {x0}\")\n",
        "y0_cap = a_cap @ x0.T\n",
        "print(f\"y0_cap is {y0_cap}\")\n",
        "if y0_cap > m_cap:\n",
        "  print(\"Allocate x0 to group 1\")\n",
        "else:\n",
        "  print(\"Allocate x0 to group 2\")"
      ],
      "metadata": {
        "colab": {
          "base_uri": "https://localhost:8080/"
        },
        "id": "BG-Q8mPSZLYh",
        "outputId": "3901806a-c4cd-45d8-d65b-c4b134a9f369"
      },
      "execution_count": null,
      "outputs": [
        {
          "output_type": "stream",
          "name": "stdout",
          "text": [
            "x0 is [[5.55 5.55]]\n",
            "y0_cap is [[-161.20014162]]\n",
            "Allocate x0 to group 2\n"
          ]
        }
      ]
    }
  ]
}