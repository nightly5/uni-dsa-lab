{
  "nbformat": 4,
  "nbformat_minor": 0,
  "metadata": {
    "colab": {
      "provenance": []
    },
    "kernelspec": {
      "name": "python3",
      "display_name": "Python 3"
    },
    "language_info": {
      "name": "python"
    }
  },
  "cells": [
    {
      "cell_type": "markdown",
      "source": [
        "### Exercise 2a\n",
        "\n",
        "Working with CSV Files"
      ],
      "metadata": {
        "id": "JqV_uCJhO4oY"
      }
    },
    {
      "cell_type": "code",
      "execution_count": null,
      "metadata": {
        "id": "AqBRUp5NO07P"
      },
      "outputs": [],
      "source": [
        "import csv"
      ]
    },
    {
      "cell_type": "code",
      "source": [
        "data = []\n",
        "\n",
        "n = int(input(\"Enter the number of elements: \"))\n",
        "for i in range(n):\n",
        "  reg = input(\"Register number? \")\n",
        "  im = float(input(\"Internal marks? \"))\n",
        "  em = float(input(\"External marks? \"))\n",
        "  data.append([reg, im, em, im + em])\n",
        "\n",
        "with open('student.csv', 'w', newline='') as sf:\n",
        "  sf_writer = csv.writer(sf, delimiter = '|')\n",
        "  sf_writer.writerow(['RegNo', 'Internal', 'External', 'Total'])\n",
        "  for row in data:\n",
        "    sf_writer.writerow(row)"
      ],
      "metadata": {
        "colab": {
          "base_uri": "https://localhost:8080/"
        },
        "id": "vRUoamjjO7vf",
        "outputId": "55cf9347-fcc7-4402-cc6b-060f1010abba"
      },
      "execution_count": null,
      "outputs": [
        {
          "name": "stdout",
          "output_type": "stream",
          "text": [
            "Enter the number of elements: 3\n",
            "Register number? 2121\n",
            "Internal marks? 47\n",
            "External marks? 47\n",
            "Register number? 232323\n",
            "Internal marks? 23\n",
            "External marks? 46\n",
            "Register number? 231231321\n",
            "Internal marks? 12\n",
            "External marks? 14\n"
          ]
        }
      ]
    },
    {
      "cell_type": "code",
      "source": [
        "import numpy as np"
      ],
      "metadata": {
        "id": "OHI-r9P5QBy_"
      },
      "execution_count": null,
      "outputs": []
    },
    {
      "cell_type": "code",
      "source": [
        "data = []\n",
        "\n",
        "with open('student.csv', 'r', newline='') as sf:\n",
        "  sf_reader = csv.reader(sf, delimiter='|')\n",
        "  next(sf_reader)\n",
        "  for row in sf_reader:\n",
        "    data.append(row)\n",
        "\n",
        "print(f\"As list: {data}\")\n",
        "print(f\"As numpy array: {np.array(data)}\")"
      ],
      "metadata": {
        "colab": {
          "base_uri": "https://localhost:8080/"
        },
        "id": "glT105YtO90H",
        "outputId": "c4130858-bfc2-4116-eb66-c412c6e0b5d0"
      },
      "execution_count": null,
      "outputs": [
        {
          "output_type": "stream",
          "name": "stdout",
          "text": [
            "As list: [['2121', '47.0', '47.0', '94.0'], ['232323', '23.0', '46.0', '69.0'], ['231231321', '12.0', '14.0', '26.0']]\n",
            "As numpy array: [['2121' '47.0' '47.0' '94.0']\n",
            " ['232323' '23.0' '46.0' '69.0']\n",
            " ['231231321' '12.0' '14.0' '26.0']]\n"
          ]
        }
      ]
    }
  ]
}
