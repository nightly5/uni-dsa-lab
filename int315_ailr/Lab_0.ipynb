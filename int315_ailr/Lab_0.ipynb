{
  "nbformat": 4,
  "nbformat_minor": 0,
  "metadata": {
    "colab": {
      "provenance": []
    },
    "kernelspec": {
      "name": "python3",
      "display_name": "Python 3"
    },
    "language_info": {
      "name": "python"
    },
    "widgets": {
      "application/vnd.jupyter.widget-state+json": {
        "1697a57e150042638fe09344848cdebe": {
          "model_module": "@jupyter-widgets/controls",
          "model_name": "VBoxModel",
          "model_module_version": "1.5.0",
          "state": {
            "_dom_classes": [
              "widget-interact"
            ],
            "_model_module": "@jupyter-widgets/controls",
            "_model_module_version": "1.5.0",
            "_model_name": "VBoxModel",
            "_view_count": null,
            "_view_module": "@jupyter-widgets/controls",
            "_view_module_version": "1.5.0",
            "_view_name": "VBoxView",
            "box_style": "",
            "children": [
              "IPY_MODEL_62b4915dda28452c989b26ccf20210d8",
              "IPY_MODEL_ccba4a1adf0f4dbc930c5703c7430cff"
            ],
            "layout": "IPY_MODEL_48a8dcf64df74f69a379ec3aca7a6b6b"
          }
        },
        "62b4915dda28452c989b26ccf20210d8": {
          "model_module": "@jupyter-widgets/controls",
          "model_name": "IntTextModel",
          "model_module_version": "1.5.0",
          "state": {
            "_dom_classes": [],
            "_model_module": "@jupyter-widgets/controls",
            "_model_module_version": "1.5.0",
            "_model_name": "IntTextModel",
            "_view_count": null,
            "_view_module": "@jupyter-widgets/controls",
            "_view_module_version": "1.5.0",
            "_view_name": "IntTextView",
            "continuous_update": false,
            "description": "Amount:",
            "description_tooltip": null,
            "disabled": false,
            "layout": "IPY_MODEL_c645b32b915f41e79c39ed529a8a928b",
            "step": 1,
            "style": "IPY_MODEL_fbb7baae2bdf45109b6ab36532db3fc7",
            "value": 5001
          }
        },
        "ccba4a1adf0f4dbc930c5703c7430cff": {
          "model_module": "@jupyter-widgets/output",
          "model_name": "OutputModel",
          "model_module_version": "1.0.0",
          "state": {
            "_dom_classes": [],
            "_model_module": "@jupyter-widgets/output",
            "_model_module_version": "1.0.0",
            "_model_name": "OutputModel",
            "_view_count": null,
            "_view_module": "@jupyter-widgets/output",
            "_view_module_version": "1.0.0",
            "_view_name": "OutputView",
            "layout": "IPY_MODEL_ab48a5ce3ea34a7a80a7a4096acdac2d",
            "msg_id": "",
            "outputs": [
              {
                "output_type": "display_data",
                "data": {
                  "text/plain": "[(500, 10), (1, 1)]"
                },
                "metadata": {}
              }
            ]
          }
        },
        "48a8dcf64df74f69a379ec3aca7a6b6b": {
          "model_module": "@jupyter-widgets/base",
          "model_name": "LayoutModel",
          "model_module_version": "1.2.0",
          "state": {
            "_model_module": "@jupyter-widgets/base",
            "_model_module_version": "1.2.0",
            "_model_name": "LayoutModel",
            "_view_count": null,
            "_view_module": "@jupyter-widgets/base",
            "_view_module_version": "1.2.0",
            "_view_name": "LayoutView",
            "align_content": null,
            "align_items": null,
            "align_self": null,
            "border": null,
            "bottom": null,
            "display": null,
            "flex": null,
            "flex_flow": null,
            "grid_area": null,
            "grid_auto_columns": null,
            "grid_auto_flow": null,
            "grid_auto_rows": null,
            "grid_column": null,
            "grid_gap": null,
            "grid_row": null,
            "grid_template_areas": null,
            "grid_template_columns": null,
            "grid_template_rows": null,
            "height": null,
            "justify_content": null,
            "justify_items": null,
            "left": null,
            "margin": null,
            "max_height": null,
            "max_width": null,
            "min_height": null,
            "min_width": null,
            "object_fit": null,
            "object_position": null,
            "order": null,
            "overflow": null,
            "overflow_x": null,
            "overflow_y": null,
            "padding": null,
            "right": null,
            "top": null,
            "visibility": null,
            "width": null
          }
        },
        "c645b32b915f41e79c39ed529a8a928b": {
          "model_module": "@jupyter-widgets/base",
          "model_name": "LayoutModel",
          "model_module_version": "1.2.0",
          "state": {
            "_model_module": "@jupyter-widgets/base",
            "_model_module_version": "1.2.0",
            "_model_name": "LayoutModel",
            "_view_count": null,
            "_view_module": "@jupyter-widgets/base",
            "_view_module_version": "1.2.0",
            "_view_name": "LayoutView",
            "align_content": null,
            "align_items": null,
            "align_self": null,
            "border": null,
            "bottom": null,
            "display": null,
            "flex": null,
            "flex_flow": null,
            "grid_area": null,
            "grid_auto_columns": null,
            "grid_auto_flow": null,
            "grid_auto_rows": null,
            "grid_column": null,
            "grid_gap": null,
            "grid_row": null,
            "grid_template_areas": null,
            "grid_template_columns": null,
            "grid_template_rows": null,
            "height": null,
            "justify_content": null,
            "justify_items": null,
            "left": null,
            "margin": null,
            "max_height": null,
            "max_width": null,
            "min_height": null,
            "min_width": null,
            "object_fit": null,
            "object_position": null,
            "order": null,
            "overflow": null,
            "overflow_x": null,
            "overflow_y": null,
            "padding": null,
            "right": null,
            "top": null,
            "visibility": null,
            "width": null
          }
        },
        "fbb7baae2bdf45109b6ab36532db3fc7": {
          "model_module": "@jupyter-widgets/controls",
          "model_name": "DescriptionStyleModel",
          "model_module_version": "1.5.0",
          "state": {
            "_model_module": "@jupyter-widgets/controls",
            "_model_module_version": "1.5.0",
            "_model_name": "DescriptionStyleModel",
            "_view_count": null,
            "_view_module": "@jupyter-widgets/base",
            "_view_module_version": "1.2.0",
            "_view_name": "StyleView",
            "description_width": ""
          }
        },
        "ab48a5ce3ea34a7a80a7a4096acdac2d": {
          "model_module": "@jupyter-widgets/base",
          "model_name": "LayoutModel",
          "model_module_version": "1.2.0",
          "state": {
            "_model_module": "@jupyter-widgets/base",
            "_model_module_version": "1.2.0",
            "_model_name": "LayoutModel",
            "_view_count": null,
            "_view_module": "@jupyter-widgets/base",
            "_view_module_version": "1.2.0",
            "_view_name": "LayoutView",
            "align_content": null,
            "align_items": null,
            "align_self": null,
            "border": null,
            "bottom": null,
            "display": null,
            "flex": null,
            "flex_flow": null,
            "grid_area": null,
            "grid_auto_columns": null,
            "grid_auto_flow": null,
            "grid_auto_rows": null,
            "grid_column": null,
            "grid_gap": null,
            "grid_row": null,
            "grid_template_areas": null,
            "grid_template_columns": null,
            "grid_template_rows": null,
            "height": null,
            "justify_content": null,
            "justify_items": null,
            "left": null,
            "margin": null,
            "max_height": null,
            "max_width": null,
            "min_height": null,
            "min_width": null,
            "object_fit": null,
            "object_position": null,
            "order": null,
            "overflow": null,
            "overflow_x": null,
            "overflow_y": null,
            "padding": null,
            "right": null,
            "top": null,
            "visibility": null,
            "width": null
          }
        }
      }
    }
  },
  "cells": [
    {
      "cell_type": "code",
      "execution_count": null,
      "metadata": {
        "id": "fwPvG41JzK2f"
      },
      "outputs": [],
      "source": [
        "m = [\n",
        "    [1, 2, 3],\n",
        "    [4, 5, 6],\n",
        "    [7, 8, 9],\n",
        "]\n",
        "n = [\n",
        "    [9, 8, 7],\n",
        "    [6, 5, 4],\n",
        "    [3, 2, 1],\n",
        "]"
      ]
    },
    {
      "cell_type": "code",
      "source": [
        "# @title Matrix addition\n",
        "res_sum = [[a + b for a, b in zip(r1, r2)] for r1, r2 in zip(m, n)]\n",
        "res_sum"
      ],
      "metadata": {
        "colab": {
          "base_uri": "https://localhost:8080/"
        },
        "id": "kkTF0uaQ4LEI",
        "outputId": "6ffabab0-7ad2-4ced-b400-d2d1443f7e21"
      },
      "execution_count": null,
      "outputs": [
        {
          "output_type": "execute_result",
          "data": {
            "text/plain": [
              "[[10, 10, 10], [10, 10, 10], [10, 10, 10]]"
            ]
          },
          "metadata": {},
          "execution_count": 2
        }
      ]
    },
    {
      "cell_type": "code",
      "source": [
        "# @title Matrix multiplication\n",
        "\n",
        "res_prod = []\n",
        "for i in range(3):\n",
        "  res_prod.append([])\n",
        "  for j in range(3):\n",
        "    sum = 0\n",
        "    for k in range(3):\n",
        "      sum += m[i][k] * n[k][j]\n",
        "    res_prod[-1].append(sum)\n",
        "res_prod"
      ],
      "metadata": {
        "colab": {
          "base_uri": "https://localhost:8080/"
        },
        "id": "jWXbo3pf8ZxY",
        "outputId": "935b79dd-1c71-4818-e671-019f159f8cfa"
      },
      "execution_count": null,
      "outputs": [
        {
          "output_type": "execute_result",
          "data": {
            "text/plain": [
              "[[30, 24, 18], [84, 69, 54], [138, 114, 90]]"
            ]
          },
          "metadata": {},
          "execution_count": 3
        }
      ]
    },
    {
      "cell_type": "code",
      "source": [
        "# @title Shifting elements of array by n elements\n",
        "def shift_lst(l: list, s: int) -> list:\n",
        "  n = len(l)\n",
        "  return [*l[-(s % n):], *l[:-(s % n)]]"
      ],
      "metadata": {
        "id": "GYPa2TdR65HH"
      },
      "execution_count": null,
      "outputs": []
    },
    {
      "cell_type": "code",
      "source": [
        "lst = eval(input(\"Enter a list: \"))\n",
        "shift = int(input(\"Enter shift: \"))\n",
        "\n",
        "shift_lst(lst, shift)"
      ],
      "metadata": {
        "colab": {
          "base_uri": "https://localhost:8080/"
        },
        "id": "frp4YdwA7YuL",
        "outputId": "321630c3-eee7-4839-f68c-1c5dac5f146b"
      },
      "execution_count": null,
      "outputs": [
        {
          "name": "stdout",
          "output_type": "stream",
          "text": [
            "Enter a list: [1, 2, 3]\n",
            "Enter shift: 2\n"
          ]
        },
        {
          "output_type": "execute_result",
          "data": {
            "text/plain": [
              "[2, 3, 1]"
            ]
          },
          "metadata": {},
          "execution_count": 5
        }
      ]
    },
    {
      "cell_type": "code",
      "source": [
        "# @title Finding the denomination required for a given amount\n",
        "from ipywidgets import interact\n",
        "import ipywidgets as widgets\n",
        "deno = [1, 2, 5, 10, 20, 50, 100, 200, 500]\n",
        "\n",
        "@interact(amt = widgets.IntText(\n",
        "    value=0,\n",
        "    step=1,\n",
        "    description='Amount:',\n",
        "))\n",
        "\n",
        "def find_deno(amt: int) -> list[tuple[int, int]]:\n",
        "  res = []\n",
        "  for d in deno[::-1]:\n",
        "    if amt == 0:\n",
        "      break\n",
        "    m = amt // d\n",
        "    amt %= d\n",
        "    if m != 0:\n",
        "      res.append((d, m))\n",
        "  return res"
      ],
      "metadata": {
        "id": "A2o7VwN3-7xH",
        "colab": {
          "base_uri": "https://localhost:8080/",
          "height": 66,
          "referenced_widgets": [
            "1697a57e150042638fe09344848cdebe",
            "62b4915dda28452c989b26ccf20210d8",
            "ccba4a1adf0f4dbc930c5703c7430cff",
            "48a8dcf64df74f69a379ec3aca7a6b6b",
            "c645b32b915f41e79c39ed529a8a928b",
            "fbb7baae2bdf45109b6ab36532db3fc7",
            "ab48a5ce3ea34a7a80a7a4096acdac2d"
          ]
        },
        "outputId": "063701ee-1a3d-4e5b-8e9d-73224721cc46"
      },
      "execution_count": null,
      "outputs": [
        {
          "output_type": "display_data",
          "data": {
            "text/plain": [
              "interactive(children=(IntText(value=0, description='Amount:'), Output()), _dom_classes=('widget-interact',))"
            ],
            "application/vnd.jupyter.widget-view+json": {
              "version_major": 2,
              "version_minor": 0,
              "model_id": "1697a57e150042638fe09344848cdebe"
            }
          },
          "metadata": {}
        }
      ]
    },
    {
      "cell_type": "code",
      "source": [
        "# @title Swap diagonal in matrix\n",
        "\n",
        "n = int(input(\"Enter number of rows/cols:\"))\n",
        "print(\"Enter the matrix elements:\")\n",
        "m = map(int, input().split())\n",
        "m = [[next(m) for j in range(n)] for i in range(n)]\n",
        "\n",
        "i, j = 0, n - 1\n",
        "r = 0\n",
        "while i < n:\n",
        "  m[r][i], m[r][j] = m[r][j], m[r][i]\n",
        "  i, j, r = i + 1, j - 1, r + 1\n",
        "\n",
        "m"
      ],
      "metadata": {
        "colab": {
          "base_uri": "https://localhost:8080/"
        },
        "id": "xRtDmtlvGTDI",
        "outputId": "980c5210-0ff9-471a-a664-fc24f268d510"
      },
      "execution_count": null,
      "outputs": [
        {
          "name": "stdout",
          "output_type": "stream",
          "text": [
            "Enter number of rows/cols:3\n",
            "Enter the matrix elements:\n",
            "1 2 3 4 5 6 7 8 9\n"
          ]
        },
        {
          "output_type": "execute_result",
          "data": {
            "text/plain": [
              "[[3, 2, 1], [4, 5, 6], [9, 8, 7]]"
            ]
          },
          "metadata": {},
          "execution_count": 7
        }
      ]
    }
  ]
}