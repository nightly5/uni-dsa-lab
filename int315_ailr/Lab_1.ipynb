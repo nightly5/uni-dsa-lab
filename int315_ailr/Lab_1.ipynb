{
  "nbformat": 4,
  "nbformat_minor": 0,
  "metadata": {
    "colab": {
      "provenance": []
    },
    "kernelspec": {
      "name": "python3",
      "display_name": "Python 3"
    },
    "language_info": {
      "name": "python"
    }
  },
  "cells": [
    {
      "cell_type": "code",
      "execution_count": null,
      "metadata": {
        "colab": {
          "base_uri": "https://localhost:8080/"
        },
        "id": "09paYqSDbFQh",
        "outputId": "a22191e6-4e73-43d9-f0c8-611595fee0ca"
      },
      "outputs": [
        {
          "output_type": "execute_result",
          "data": {
            "text/plain": [
              "[[0, 2, 0, 4], [3, 5, 6, 10], [0, 6, 0, 8], [9, 15, 12, 20]]"
            ]
          },
          "metadata": {},
          "execution_count": 1
        }
      ],
      "source": [
        "# @title Kronecker product of 2 matrices\n",
        "\n",
        "def kronecker(\n",
        "    A: list[list],\n",
        "    B: list[list],\n",
        "    o1: tuple[int, int],\n",
        "    o2: tuple[int, int]\n",
        ") -> list[list]:\n",
        "  m, n = o1\n",
        "  p, q = o2\n",
        "  res = [[0 for j in range(n * q)] for i in range(p * m)]\n",
        "  for i in range(m):\n",
        "    for j in range(n):\n",
        "      for k in range(p):\n",
        "        for l in range(q):\n",
        "          res[k + (i * p)][l + (j * q)] = A[i][j] * B[k][l]\n",
        "  return res\n",
        "\n",
        "A = [\n",
        "  [1, 2],\n",
        "  [3, 4],\n",
        "]\n",
        "B = [\n",
        "  [0, 2],\n",
        "  [3, 5],\n",
        "]\n",
        "o1 = o2 = (2, 2)\n",
        "\n",
        "kronecker(A, B, o1, o2)"
      ]
    },
    {
      "cell_type": "code",
      "source": [
        "# @title Alt code for kronecker product\n",
        "\n",
        "def kron(\n",
        "    A: list[list],\n",
        "    B: list[list],\n",
        "    o1: tuple[int, int],\n",
        "    o2: tuple[int, int]\n",
        ") -> list[list]:\n",
        "  m, n = o1\n",
        "  p, q = o2\n",
        "  res = [[0 for j in range(n * q)] for i in range(p * m)]\n",
        "  for i in range(p * m):\n",
        "    for j in range(n * q):\n",
        "      res[i][j] = A[i // p][j // q] * B[i % p][j % q]\n",
        "  return res\n",
        "\n",
        "kron(A, B, o1, o2)"
      ],
      "metadata": {
        "colab": {
          "base_uri": "https://localhost:8080/"
        },
        "id": "W2LIWVOrpAJv",
        "outputId": "90afd6c4-cd18-4cf7-eb12-3e01ccbfcd5f"
      },
      "execution_count": null,
      "outputs": [
        {
          "output_type": "execute_result",
          "data": {
            "text/plain": [
              "[[0, 2, 0, 4], [3, 5, 6, 10], [0, 6, 0, 8], [9, 15, 12, 20]]"
            ]
          },
          "metadata": {},
          "execution_count": 2
        }
      ]
    },
    {
      "cell_type": "code",
      "source": [
        "C = [\n",
        "    [1, -4, 7],\n",
        "    [-2, 3, 3],\n",
        "]\n",
        "\n",
        "D = [\n",
        "    [8, -9, -6, 5],\n",
        "    [1, -3, -4, 7],\n",
        "    [2, 8, -8, -3],\n",
        "    [1, 2, -5, -1]\n",
        "]\n",
        "\n",
        "o3 = (2, 3)\n",
        "o4 = (4, 4)\n",
        "\n",
        "kron(C, D, o3, o4)"
      ],
      "metadata": {
        "colab": {
          "base_uri": "https://localhost:8080/"
        },
        "id": "eqTGocKBrSpo",
        "outputId": "27ee799a-c8ad-419a-d787-12bea58d3771"
      },
      "execution_count": null,
      "outputs": [
        {
          "output_type": "execute_result",
          "data": {
            "text/plain": [
              "[[8, -9, -6, 5, -32, 36, 24, -20, 56, -63, -42, 35],\n",
              " [1, -3, -4, 7, -4, 12, 16, -28, 7, -21, -28, 49],\n",
              " [2, 8, -8, -3, -8, -32, 32, 12, 14, 56, -56, -21],\n",
              " [1, 2, -5, -1, -4, -8, 20, 4, 7, 14, -35, -7],\n",
              " [-16, 18, 12, -10, 24, -27, -18, 15, 24, -27, -18, 15],\n",
              " [-2, 6, 8, -14, 3, -9, -12, 21, 3, -9, -12, 21],\n",
              " [-4, -16, 16, 6, 6, 24, -24, -9, 6, 24, -24, -9],\n",
              " [-2, -4, 10, 2, 3, 6, -15, -3, 3, 6, -15, -3]]"
            ]
          },
          "metadata": {},
          "execution_count": 3
        }
      ]
    },
    {
      "cell_type": "code",
      "source": [
        "# @title Checking if a matrix is a magic square\n",
        "\n",
        "def check_magic(A: list[list], m: int) -> bool:\n",
        "  if m % 2 == 0:\n",
        "    return False\n",
        "\n",
        "  e_sum = m * ((m**2) + 1) / 2\n",
        "\n",
        "  for i in range(m):\n",
        "    s = sum(A[i])\n",
        "    if s != e_sum:\n",
        "      return False\n",
        "\n",
        "  for i in range(m):\n",
        "    s = 0\n",
        "    for j in range(m):\n",
        "      s += A[j][i]\n",
        "    if s != e_sum:\n",
        "      return False\n",
        "\n",
        "  return True"
      ],
      "metadata": {
        "id": "PoTLiIv5hi7v"
      },
      "execution_count": null,
      "outputs": []
    },
    {
      "cell_type": "code",
      "source": [
        "A = [\n",
        "    [2, 7, 6],\n",
        "    [9, 5, 1],\n",
        "    [4, 3, 8],\n",
        "]\n",
        "m = 3\n",
        "\n",
        "check_magic(A, m)"
      ],
      "metadata": {
        "colab": {
          "base_uri": "https://localhost:8080/"
        },
        "id": "PYRkDm6ti5Ei",
        "outputId": "4bbdcd42-3a84-4654-beca-0df345360541"
      },
      "execution_count": null,
      "outputs": [
        {
          "output_type": "execute_result",
          "data": {
            "text/plain": [
              "True"
            ]
          },
          "metadata": {},
          "execution_count": 5
        }
      ]
    }
  ]
}